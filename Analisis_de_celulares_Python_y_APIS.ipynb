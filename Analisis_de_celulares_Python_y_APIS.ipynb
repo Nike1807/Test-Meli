{
  "nbformat": 4,
  "nbformat_minor": 0,
  "metadata": {
    "colab": {
      "provenance": []
    },
    "kernelspec": {
      "name": "python3",
      "display_name": "Python 3"
    },
    "language_info": {
      "name": "python"
    }
  },
  "cells": [
    {
      "cell_type": "markdown",
      "source": [
        "# **IMPORTANDO INFOMACIÓN DE LA API**"
      ],
      "metadata": {
        "id": "TQ20k1aEtYTC"
      }
    },
    {
      "cell_type": "markdown",
      "source": [
        "Definimos la biblioteca necesaria para extraer la infomación de la API de Mercado Libre"
      ],
      "metadata": {
        "id": "uqqzMUfF3Fb_"
      }
    },
    {
      "cell_type": "code",
      "execution_count": 200,
      "metadata": {
        "id": "JYqwZ7Fu2p19"
      },
      "outputs": [],
      "source": [
        "import requests"
      ]
    },
    {
      "cell_type": "markdown",
      "source": [
        "Definimos la función para obtener los items ID de la API acorde a nuestro criterio de búsqueda."
      ],
      "metadata": {
        "id": "OdqpY4ke3q5v"
      }
    },
    {
      "cell_type": "code",
      "source": [
        "def items_API(query, max_items):\n",
        "    url = \"https://api.mercadolibre.com/sites/MLA/search\"\n",
        "    params = {\n",
        "        \"q\": query,  # Palabra clave de búsqueda\n",
        "        \"limit\": 50\n",
        "    }\n",
        "    items = []\n",
        "    offset = 0\n",
        "\n",
        "    while len(items) < max_items:\n",
        "        params[\"offset\"] = offset #El offset maneja la paginación\n",
        "\n",
        "# Realizar la solicitud a la API\n",
        "        response = requests.get(url, params=params)\n",
        "        if response.status_code != 200:\n",
        "            print(f\"Error: {response.status_code}\")  #Se rompe la iteración si el proceso no es exitoso\n",
        "            break\n",
        "\n",
        "# Convertimos la respuesta a un formato JSON\n",
        "        data = response.json()\n",
        "\n",
        " # Agregamos los items a una lista\n",
        "        items.extend(data[\"results\"])\n",
        "\n",
        "# Verificar si hay más ítems\n",
        "        if len(data[\"results\"]) < 50:\n",
        "            break  # No hay más ítems\n",
        "\n",
        "        # Actualizar el offset para la siguiente página\n",
        "        offset += 50\n",
        "\n",
        "    return items[:max_items]  # Devolver solo los ítems solicitados\n",
        "\n",
        "# Obtener ítems para cada término de búsqueda\n",
        "terminos = [\"Samsung S24 Ultra\", \"Iphone 16\", \"Google Pixel 9 Pro\"]\n",
        "max_items = 150\n",
        "items_totales = []\n",
        "\n",
        "for termino in terminos:\n",
        "    print(f\"Obteniendo ítems para: {termino}\")\n",
        "    items = items_API(termino, max_items)\n",
        "    items_totales.extend(items)\n",
        "\n",
        "print(f\"Total de ítems obtenidos: {len(items_totales)}\")\n",
        "\n"
      ],
      "metadata": {
        "colab": {
          "base_uri": "https://localhost:8080/"
        },
        "outputId": "9027fed8-d3b2-4fcc-abbe-c37f70a8ae36",
        "id": "BO4UV8kI6OaC"
      },
      "execution_count": 201,
      "outputs": [
        {
          "output_type": "stream",
          "name": "stdout",
          "text": [
            "Obteniendo ítems para: Samsung S24 Ultra\n",
            "Obteniendo ítems para: Iphone 16\n",
            "Obteniendo ítems para: Google Pixel 9 Pro\n",
            "Total de ítems obtenidos: 214\n"
          ]
        }
      ]
    },
    {
      "cell_type": "markdown",
      "source": [
        "Obtenemos datos de cada Item ID"
      ],
      "metadata": {
        "id": "wcr-BH1A83Bs"
      }
    },
    {
      "cell_type": "code",
      "source": [
        "#\n",
        "def items_API_detalle(item_id):\n",
        "    url = f\"https://api.mercadolibre.com/items/{item_id}\"\n",
        "    response = requests.get(url)\n",
        "    if response.status_code == 200:\n",
        "        return response.json()\n",
        "    else:\n",
        "        print(f\"Error al obtener el información sobre ítem {item_id}: {response.status_code}\")\n",
        "        return None\n",
        "\n",
        "# Creamos la lista para almacenar los detalles de cada item y realizamos una iteración para repetir el proceso para cada itemId\n",
        "items_detalle = []\n",
        "\n",
        "for item in items_totales:\n",
        "    item_id = item[\"id\"]\n",
        "    detalle = items_API_detalle(item_id)\n",
        "    if detalle:\n",
        "        items_detalle.append(detalle)\n",
        "\n",
        "print(f\"Detalles de items obtenidos: {len(items_detalle)}\")"
      ],
      "metadata": {
        "colab": {
          "base_uri": "https://localhost:8080/"
        },
        "id": "d_2_oIrZ8b1H",
        "outputId": "190e1797-90bc-4528-f784-e97e372797dd"
      },
      "execution_count": 202,
      "outputs": [
        {
          "output_type": "stream",
          "name": "stdout",
          "text": [
            "Detalles de items obtenidos: 214\n"
          ]
        }
      ]
    },
    {
      "cell_type": "markdown",
      "source": [
        "# **CREACIÓN DE UN DATAFRAME CON LA DATA DE LA API**"
      ],
      "metadata": {
        "id": "t-RdCKx3tjpB"
      }
    },
    {
      "cell_type": "code",
      "source": [
        "#Importamos la librería pandas\n",
        "import pandas as pd\n",
        "\n",
        "# Crear un DataFrame con los detalles de los ítems\n",
        "df = pd.DataFrame(items_detalle)"
      ],
      "metadata": {
        "id": "-AqiSCO0-YuC"
      },
      "execution_count": 203,
      "outputs": []
    },
    {
      "cell_type": "markdown",
      "source": [
        "A partir de la creación del dataFrame, consultamos las columnas que posee en busca de decidir cuales son las más útiles para nuestro análsis."
      ],
      "metadata": {
        "id": "oSQg9Io0_dFb"
      }
    },
    {
      "cell_type": "code",
      "source": [
        "df.columns.tolist()\n"
      ],
      "metadata": {
        "colab": {
          "base_uri": "https://localhost:8080/"
        },
        "id": "sfF3XjnJ-r5h",
        "outputId": "5c076a96-4991-4bb5-a57e-b0f7e1d8cb4b"
      },
      "execution_count": 204,
      "outputs": [
        {
          "output_type": "execute_result",
          "data": {
            "text/plain": [
              "['id',\n",
              " 'site_id',\n",
              " 'title',\n",
              " 'seller_id',\n",
              " 'category_id',\n",
              " 'official_store_id',\n",
              " 'price',\n",
              " 'base_price',\n",
              " 'original_price',\n",
              " 'currency_id',\n",
              " 'initial_quantity',\n",
              " 'sale_terms',\n",
              " 'buying_mode',\n",
              " 'listing_type_id',\n",
              " 'condition',\n",
              " 'permalink',\n",
              " 'thumbnail_id',\n",
              " 'thumbnail',\n",
              " 'pictures',\n",
              " 'video_id',\n",
              " 'descriptions',\n",
              " 'accepts_mercadopago',\n",
              " 'non_mercado_pago_payment_methods',\n",
              " 'shipping',\n",
              " 'international_delivery_mode',\n",
              " 'seller_address',\n",
              " 'seller_contact',\n",
              " 'location',\n",
              " 'coverage_areas',\n",
              " 'attributes',\n",
              " 'listing_source',\n",
              " 'variations',\n",
              " 'status',\n",
              " 'sub_status',\n",
              " 'tags',\n",
              " 'warranty',\n",
              " 'catalog_product_id',\n",
              " 'domain_id',\n",
              " 'parent_item_id',\n",
              " 'deal_ids',\n",
              " 'automatic_relist',\n",
              " 'date_created',\n",
              " 'last_updated',\n",
              " 'health',\n",
              " 'catalog_listing']"
            ]
          },
          "metadata": {},
          "execution_count": 204
        }
      ]
    },
    {
      "cell_type": "code",
      "source": [
        "#Columnas seleccionadas para análisis.\n",
        "columnas_analisis = [\n",
        "    \"id\", \"title\", \"seller_id\", \"official_store_id\", \"price\", \"currency_id\",\n",
        "    \"initial_quantity\", \"condition\", \"shipping\",\"international_delivery_mode\", \"location\", \"attributes\", \"status\",\"warranty\", \"date_created\"]"
      ],
      "metadata": {
        "id": "RGF7qDOsChL7"
      },
      "execution_count": 205,
      "outputs": []
    },
    {
      "cell_type": "code",
      "source": [
        "df_analisis = df[columnas_analisis]"
      ],
      "metadata": {
        "id": "0eUcazsQEidA"
      },
      "execution_count": 206,
      "outputs": []
    },
    {
      "cell_type": "code",
      "source": [
        "#Nuevo dataFrame compuesto solo por las columnas seleccionadas\n",
        "df_analisis.sample(5)"
      ],
      "metadata": {
        "colab": {
          "base_uri": "https://localhost:8080/",
          "height": 608
        },
        "id": "aY-sb_Sb_rNj",
        "outputId": "87cce6b2-2c46-4255-e7e7-abbfee6fd16e"
      },
      "execution_count": 207,
      "outputs": [
        {
          "output_type": "execute_result",
          "data": {
            "text/plain": [
              "                id                                              title  \\\n",
              "209  MLA1468084871  Google Pixel 9 Pro Fold Dual Sim 256 Gb 16 Gb ...   \n",
              "11   MLA1465466577                      Samsung S24 Ultra 512gb 12ram   \n",
              "197  MLA1456631127       Google Pixel 9 Pro Xl 16gb Ram 128gb Sellado   \n",
              "67   MLA1993798646  Samsung Galaxy S24 Ultra 5g 512 Gb Gris Titani...   \n",
              "169  MLA2009523720                           iPhone 16 Pro Max Nuevo.   \n",
              "\n",
              "      seller_id  official_store_id      price currency_id  initial_quantity  \\\n",
              "209    24284351                NaN 3100000.00         ARS                 1   \n",
              "11   1054114229                NaN 1850000.00         ARS                 1   \n",
              "197  1473497418                NaN 2049999.00         ARS                 2   \n",
              "67     47002151                NaN 2300000.00         ARS                 1   \n",
              "169    92876453                NaN 2500000.00         ARS                 2   \n",
              "\n",
              "    condition                                           shipping  \\\n",
              "209      used  {'mode': 'not_specified', 'methods': [], 'tags...   \n",
              "11        new  {'mode': 'me2', 'methods': [], 'tags': ['manda...   \n",
              "197       new  {'mode': 'me2', 'methods': [], 'tags': ['manda...   \n",
              "67        new  {'mode': 'me2', 'methods': [], 'tags': ['local...   \n",
              "169       new  {'mode': 'me2', 'methods': [], 'tags': ['local...   \n",
              "\n",
              "    international_delivery_mode location  \\\n",
              "209                        none       {}   \n",
              "11                         none       {}   \n",
              "197                        none       {}   \n",
              "67                         none       {}   \n",
              "169                        none       {}   \n",
              "\n",
              "                                            attributes  status  \\\n",
              "209  [{'id': 'BATTERY_CAPACITY', 'name': 'Capacidad...  active   \n",
              "11   [{'id': 'ACCESSORIES_INCLUDED', 'name': 'Acces...  active   \n",
              "197  [{'id': 'ACCESSORIES_INCLUDED', 'name': 'Acces...  active   \n",
              "67   [{'id': 'ACCESSORIES_INCLUDED', 'name': 'Acces...  active   \n",
              "169  [{'id': 'ACCESSORIES_INCLUDED', 'name': 'Acces...  active   \n",
              "\n",
              "                           warranty              date_created  \\\n",
              "209                    Sin garantía  2024-12-20T16:33:46.663Z   \n",
              "11   Garantía del vendedor: 3 meses  2024-12-16T14:24:54.610Z   \n",
              "197  Garantía del vendedor: 3 meses  2024-10-23T18:03:23.108Z   \n",
              "67     Garantía de fábrica: 6 meses  2025-01-11T00:54:54.834Z   \n",
              "169                    Sin garantía  2025-02-06T16:51:36.741Z   \n",
              "\n",
              "                 last_updated  \n",
              "209  2025-01-31T18:59:05.878Z  \n",
              "11   2025-02-05T11:21:20.264Z  \n",
              "197  2025-01-19T15:29:36.834Z  \n",
              "67   2025-02-05T04:25:38.002Z  \n",
              "169  2025-02-06T16:55:30.198Z  "
            ],
            "text/html": [
              "\n",
              "  <div id=\"df-89c3634e-80cb-4f55-90bb-c5220c66de59\" class=\"colab-df-container\">\n",
              "    <div>\n",
              "<style scoped>\n",
              "    .dataframe tbody tr th:only-of-type {\n",
              "        vertical-align: middle;\n",
              "    }\n",
              "\n",
              "    .dataframe tbody tr th {\n",
              "        vertical-align: top;\n",
              "    }\n",
              "\n",
              "    .dataframe thead th {\n",
              "        text-align: right;\n",
              "    }\n",
              "</style>\n",
              "<table border=\"1\" class=\"dataframe\">\n",
              "  <thead>\n",
              "    <tr style=\"text-align: right;\">\n",
              "      <th></th>\n",
              "      <th>id</th>\n",
              "      <th>title</th>\n",
              "      <th>seller_id</th>\n",
              "      <th>official_store_id</th>\n",
              "      <th>price</th>\n",
              "      <th>currency_id</th>\n",
              "      <th>initial_quantity</th>\n",
              "      <th>condition</th>\n",
              "      <th>shipping</th>\n",
              "      <th>international_delivery_mode</th>\n",
              "      <th>location</th>\n",
              "      <th>attributes</th>\n",
              "      <th>status</th>\n",
              "      <th>warranty</th>\n",
              "      <th>date_created</th>\n",
              "      <th>last_updated</th>\n",
              "    </tr>\n",
              "  </thead>\n",
              "  <tbody>\n",
              "    <tr>\n",
              "      <th>209</th>\n",
              "      <td>MLA1468084871</td>\n",
              "      <td>Google Pixel 9 Pro Fold Dual Sim 256 Gb 16 Gb ...</td>\n",
              "      <td>24284351</td>\n",
              "      <td>NaN</td>\n",
              "      <td>3100000.00</td>\n",
              "      <td>ARS</td>\n",
              "      <td>1</td>\n",
              "      <td>used</td>\n",
              "      <td>{'mode': 'not_specified', 'methods': [], 'tags...</td>\n",
              "      <td>none</td>\n",
              "      <td>{}</td>\n",
              "      <td>[{'id': 'BATTERY_CAPACITY', 'name': 'Capacidad...</td>\n",
              "      <td>active</td>\n",
              "      <td>Sin garantía</td>\n",
              "      <td>2024-12-20T16:33:46.663Z</td>\n",
              "      <td>2025-01-31T18:59:05.878Z</td>\n",
              "    </tr>\n",
              "    <tr>\n",
              "      <th>11</th>\n",
              "      <td>MLA1465466577</td>\n",
              "      <td>Samsung S24 Ultra 512gb 12ram</td>\n",
              "      <td>1054114229</td>\n",
              "      <td>NaN</td>\n",
              "      <td>1850000.00</td>\n",
              "      <td>ARS</td>\n",
              "      <td>1</td>\n",
              "      <td>new</td>\n",
              "      <td>{'mode': 'me2', 'methods': [], 'tags': ['manda...</td>\n",
              "      <td>none</td>\n",
              "      <td>{}</td>\n",
              "      <td>[{'id': 'ACCESSORIES_INCLUDED', 'name': 'Acces...</td>\n",
              "      <td>active</td>\n",
              "      <td>Garantía del vendedor: 3 meses</td>\n",
              "      <td>2024-12-16T14:24:54.610Z</td>\n",
              "      <td>2025-02-05T11:21:20.264Z</td>\n",
              "    </tr>\n",
              "    <tr>\n",
              "      <th>197</th>\n",
              "      <td>MLA1456631127</td>\n",
              "      <td>Google Pixel 9 Pro Xl 16gb Ram 128gb Sellado</td>\n",
              "      <td>1473497418</td>\n",
              "      <td>NaN</td>\n",
              "      <td>2049999.00</td>\n",
              "      <td>ARS</td>\n",
              "      <td>2</td>\n",
              "      <td>new</td>\n",
              "      <td>{'mode': 'me2', 'methods': [], 'tags': ['manda...</td>\n",
              "      <td>none</td>\n",
              "      <td>{}</td>\n",
              "      <td>[{'id': 'ACCESSORIES_INCLUDED', 'name': 'Acces...</td>\n",
              "      <td>active</td>\n",
              "      <td>Garantía del vendedor: 3 meses</td>\n",
              "      <td>2024-10-23T18:03:23.108Z</td>\n",
              "      <td>2025-01-19T15:29:36.834Z</td>\n",
              "    </tr>\n",
              "    <tr>\n",
              "      <th>67</th>\n",
              "      <td>MLA1993798646</td>\n",
              "      <td>Samsung Galaxy S24 Ultra 5g 512 Gb Gris Titani...</td>\n",
              "      <td>47002151</td>\n",
              "      <td>NaN</td>\n",
              "      <td>2300000.00</td>\n",
              "      <td>ARS</td>\n",
              "      <td>1</td>\n",
              "      <td>new</td>\n",
              "      <td>{'mode': 'me2', 'methods': [], 'tags': ['local...</td>\n",
              "      <td>none</td>\n",
              "      <td>{}</td>\n",
              "      <td>[{'id': 'ACCESSORIES_INCLUDED', 'name': 'Acces...</td>\n",
              "      <td>active</td>\n",
              "      <td>Garantía de fábrica: 6 meses</td>\n",
              "      <td>2025-01-11T00:54:54.834Z</td>\n",
              "      <td>2025-02-05T04:25:38.002Z</td>\n",
              "    </tr>\n",
              "    <tr>\n",
              "      <th>169</th>\n",
              "      <td>MLA2009523720</td>\n",
              "      <td>iPhone 16 Pro Max Nuevo.</td>\n",
              "      <td>92876453</td>\n",
              "      <td>NaN</td>\n",
              "      <td>2500000.00</td>\n",
              "      <td>ARS</td>\n",
              "      <td>2</td>\n",
              "      <td>new</td>\n",
              "      <td>{'mode': 'me2', 'methods': [], 'tags': ['local...</td>\n",
              "      <td>none</td>\n",
              "      <td>{}</td>\n",
              "      <td>[{'id': 'ACCESSORIES_INCLUDED', 'name': 'Acces...</td>\n",
              "      <td>active</td>\n",
              "      <td>Sin garantía</td>\n",
              "      <td>2025-02-06T16:51:36.741Z</td>\n",
              "      <td>2025-02-06T16:55:30.198Z</td>\n",
              "    </tr>\n",
              "  </tbody>\n",
              "</table>\n",
              "</div>\n",
              "    <div class=\"colab-df-buttons\">\n",
              "\n",
              "  <div class=\"colab-df-container\">\n",
              "    <button class=\"colab-df-convert\" onclick=\"convertToInteractive('df-89c3634e-80cb-4f55-90bb-c5220c66de59')\"\n",
              "            title=\"Convert this dataframe to an interactive table.\"\n",
              "            style=\"display:none;\">\n",
              "\n",
              "  <svg xmlns=\"http://www.w3.org/2000/svg\" height=\"24px\" viewBox=\"0 -960 960 960\">\n",
              "    <path d=\"M120-120v-720h720v720H120Zm60-500h600v-160H180v160Zm220 220h160v-160H400v160Zm0 220h160v-160H400v160ZM180-400h160v-160H180v160Zm440 0h160v-160H620v160ZM180-180h160v-160H180v160Zm440 0h160v-160H620v160Z\"/>\n",
              "  </svg>\n",
              "    </button>\n",
              "\n",
              "  <style>\n",
              "    .colab-df-container {\n",
              "      display:flex;\n",
              "      gap: 12px;\n",
              "    }\n",
              "\n",
              "    .colab-df-convert {\n",
              "      background-color: #E8F0FE;\n",
              "      border: none;\n",
              "      border-radius: 50%;\n",
              "      cursor: pointer;\n",
              "      display: none;\n",
              "      fill: #1967D2;\n",
              "      height: 32px;\n",
              "      padding: 0 0 0 0;\n",
              "      width: 32px;\n",
              "    }\n",
              "\n",
              "    .colab-df-convert:hover {\n",
              "      background-color: #E2EBFA;\n",
              "      box-shadow: 0px 1px 2px rgba(60, 64, 67, 0.3), 0px 1px 3px 1px rgba(60, 64, 67, 0.15);\n",
              "      fill: #174EA6;\n",
              "    }\n",
              "\n",
              "    .colab-df-buttons div {\n",
              "      margin-bottom: 4px;\n",
              "    }\n",
              "\n",
              "    [theme=dark] .colab-df-convert {\n",
              "      background-color: #3B4455;\n",
              "      fill: #D2E3FC;\n",
              "    }\n",
              "\n",
              "    [theme=dark] .colab-df-convert:hover {\n",
              "      background-color: #434B5C;\n",
              "      box-shadow: 0px 1px 3px 1px rgba(0, 0, 0, 0.15);\n",
              "      filter: drop-shadow(0px 1px 2px rgba(0, 0, 0, 0.3));\n",
              "      fill: #FFFFFF;\n",
              "    }\n",
              "  </style>\n",
              "\n",
              "    <script>\n",
              "      const buttonEl =\n",
              "        document.querySelector('#df-89c3634e-80cb-4f55-90bb-c5220c66de59 button.colab-df-convert');\n",
              "      buttonEl.style.display =\n",
              "        google.colab.kernel.accessAllowed ? 'block' : 'none';\n",
              "\n",
              "      async function convertToInteractive(key) {\n",
              "        const element = document.querySelector('#df-89c3634e-80cb-4f55-90bb-c5220c66de59');\n",
              "        const dataTable =\n",
              "          await google.colab.kernel.invokeFunction('convertToInteractive',\n",
              "                                                    [key], {});\n",
              "        if (!dataTable) return;\n",
              "\n",
              "        const docLinkHtml = 'Like what you see? Visit the ' +\n",
              "          '<a target=\"_blank\" href=https://colab.research.google.com/notebooks/data_table.ipynb>data table notebook</a>'\n",
              "          + ' to learn more about interactive tables.';\n",
              "        element.innerHTML = '';\n",
              "        dataTable['output_type'] = 'display_data';\n",
              "        await google.colab.output.renderOutput(dataTable, element);\n",
              "        const docLink = document.createElement('div');\n",
              "        docLink.innerHTML = docLinkHtml;\n",
              "        element.appendChild(docLink);\n",
              "      }\n",
              "    </script>\n",
              "  </div>\n",
              "\n",
              "\n",
              "<div id=\"df-b7a6a5b8-0947-4c24-ba8e-e05d4c86b257\">\n",
              "  <button class=\"colab-df-quickchart\" onclick=\"quickchart('df-b7a6a5b8-0947-4c24-ba8e-e05d4c86b257')\"\n",
              "            title=\"Suggest charts\"\n",
              "            style=\"display:none;\">\n",
              "\n",
              "<svg xmlns=\"http://www.w3.org/2000/svg\" height=\"24px\"viewBox=\"0 0 24 24\"\n",
              "     width=\"24px\">\n",
              "    <g>\n",
              "        <path d=\"M19 3H5c-1.1 0-2 .9-2 2v14c0 1.1.9 2 2 2h14c1.1 0 2-.9 2-2V5c0-1.1-.9-2-2-2zM9 17H7v-7h2v7zm4 0h-2V7h2v10zm4 0h-2v-4h2v4z\"/>\n",
              "    </g>\n",
              "</svg>\n",
              "  </button>\n",
              "\n",
              "<style>\n",
              "  .colab-df-quickchart {\n",
              "      --bg-color: #E8F0FE;\n",
              "      --fill-color: #1967D2;\n",
              "      --hover-bg-color: #E2EBFA;\n",
              "      --hover-fill-color: #174EA6;\n",
              "      --disabled-fill-color: #AAA;\n",
              "      --disabled-bg-color: #DDD;\n",
              "  }\n",
              "\n",
              "  [theme=dark] .colab-df-quickchart {\n",
              "      --bg-color: #3B4455;\n",
              "      --fill-color: #D2E3FC;\n",
              "      --hover-bg-color: #434B5C;\n",
              "      --hover-fill-color: #FFFFFF;\n",
              "      --disabled-bg-color: #3B4455;\n",
              "      --disabled-fill-color: #666;\n",
              "  }\n",
              "\n",
              "  .colab-df-quickchart {\n",
              "    background-color: var(--bg-color);\n",
              "    border: none;\n",
              "    border-radius: 50%;\n",
              "    cursor: pointer;\n",
              "    display: none;\n",
              "    fill: var(--fill-color);\n",
              "    height: 32px;\n",
              "    padding: 0;\n",
              "    width: 32px;\n",
              "  }\n",
              "\n",
              "  .colab-df-quickchart:hover {\n",
              "    background-color: var(--hover-bg-color);\n",
              "    box-shadow: 0 1px 2px rgba(60, 64, 67, 0.3), 0 1px 3px 1px rgba(60, 64, 67, 0.15);\n",
              "    fill: var(--button-hover-fill-color);\n",
              "  }\n",
              "\n",
              "  .colab-df-quickchart-complete:disabled,\n",
              "  .colab-df-quickchart-complete:disabled:hover {\n",
              "    background-color: var(--disabled-bg-color);\n",
              "    fill: var(--disabled-fill-color);\n",
              "    box-shadow: none;\n",
              "  }\n",
              "\n",
              "  .colab-df-spinner {\n",
              "    border: 2px solid var(--fill-color);\n",
              "    border-color: transparent;\n",
              "    border-bottom-color: var(--fill-color);\n",
              "    animation:\n",
              "      spin 1s steps(1) infinite;\n",
              "  }\n",
              "\n",
              "  @keyframes spin {\n",
              "    0% {\n",
              "      border-color: transparent;\n",
              "      border-bottom-color: var(--fill-color);\n",
              "      border-left-color: var(--fill-color);\n",
              "    }\n",
              "    20% {\n",
              "      border-color: transparent;\n",
              "      border-left-color: var(--fill-color);\n",
              "      border-top-color: var(--fill-color);\n",
              "    }\n",
              "    30% {\n",
              "      border-color: transparent;\n",
              "      border-left-color: var(--fill-color);\n",
              "      border-top-color: var(--fill-color);\n",
              "      border-right-color: var(--fill-color);\n",
              "    }\n",
              "    40% {\n",
              "      border-color: transparent;\n",
              "      border-right-color: var(--fill-color);\n",
              "      border-top-color: var(--fill-color);\n",
              "    }\n",
              "    60% {\n",
              "      border-color: transparent;\n",
              "      border-right-color: var(--fill-color);\n",
              "    }\n",
              "    80% {\n",
              "      border-color: transparent;\n",
              "      border-right-color: var(--fill-color);\n",
              "      border-bottom-color: var(--fill-color);\n",
              "    }\n",
              "    90% {\n",
              "      border-color: transparent;\n",
              "      border-bottom-color: var(--fill-color);\n",
              "    }\n",
              "  }\n",
              "</style>\n",
              "\n",
              "  <script>\n",
              "    async function quickchart(key) {\n",
              "      const quickchartButtonEl =\n",
              "        document.querySelector('#' + key + ' button');\n",
              "      quickchartButtonEl.disabled = true;  // To prevent multiple clicks.\n",
              "      quickchartButtonEl.classList.add('colab-df-spinner');\n",
              "      try {\n",
              "        const charts = await google.colab.kernel.invokeFunction(\n",
              "            'suggestCharts', [key], {});\n",
              "      } catch (error) {\n",
              "        console.error('Error during call to suggestCharts:', error);\n",
              "      }\n",
              "      quickchartButtonEl.classList.remove('colab-df-spinner');\n",
              "      quickchartButtonEl.classList.add('colab-df-quickchart-complete');\n",
              "    }\n",
              "    (() => {\n",
              "      let quickchartButtonEl =\n",
              "        document.querySelector('#df-b7a6a5b8-0947-4c24-ba8e-e05d4c86b257 button');\n",
              "      quickchartButtonEl.style.display =\n",
              "        google.colab.kernel.accessAllowed ? 'block' : 'none';\n",
              "    })();\n",
              "  </script>\n",
              "</div>\n",
              "\n",
              "    </div>\n",
              "  </div>\n"
            ],
            "application/vnd.google.colaboratory.intrinsic+json": {
              "type": "dataframe",
              "repr_error": "0"
            }
          },
          "metadata": {},
          "execution_count": 207
        }
      ]
    },
    {
      "cell_type": "markdown",
      "source": [
        "Procedemos a guardar el dataFrame generado con nuestras columnas a analizar en un archivo en formato CSV"
      ],
      "metadata": {
        "id": "fX1f4XZnG8UF"
      }
    },
    {
      "cell_type": "markdown",
      "source": [
        "# **INFORMACIÓN GUARDADA EN FORMATO CSV**"
      ],
      "metadata": {
        "id": "baDYcFBZttuL"
      }
    },
    {
      "cell_type": "code",
      "source": [
        "# Guardar en un archivo CSV\n",
        "df_analisis.to_csv(\"items_mercado_libre.csv\", index=False)\n",
        "print(\"CSV guardado correctamente.\")"
      ],
      "metadata": {
        "colab": {
          "base_uri": "https://localhost:8080/"
        },
        "id": "RZZ1mvoxG7m-",
        "outputId": "a58712c3-0601-4b48-8fd7-89bb38479e67"
      },
      "execution_count": 208,
      "outputs": [
        {
          "output_type": "stream",
          "name": "stdout",
          "text": [
            "CSV guardado correctamente.\n"
          ]
        }
      ]
    },
    {
      "cell_type": "markdown",
      "source": [
        "# **EDA (Análisis exploratorio)**"
      ],
      "metadata": {
        "id": "IVSfd1N2JhNK"
      }
    },
    {
      "cell_type": "code",
      "source": [
        "import pandas as pd\n",
        "import numpy as np\n",
        "import matplotlib.pyplot as plt\n",
        "import seaborn as sns\n",
        "import matplotlib as mpl\n",
        "\n",
        "# Cargamos los datos desde el CSV\n",
        "df = pd.read_csv(\"items_mercado_libre.csv\")\n",
        "\n"
      ],
      "metadata": {
        "id": "CRz5CDYUJgW-"
      },
      "execution_count": 209,
      "outputs": []
    },
    {
      "cell_type": "code",
      "source": [
        "#Vemos las dimensiones de nuestro dataframe\n",
        "df.shape"
      ],
      "metadata": {
        "colab": {
          "base_uri": "https://localhost:8080/"
        },
        "id": "6ftDGFpyAjDI",
        "outputId": "0b51a744-5812-4417-c49a-43815e275823"
      },
      "execution_count": 210,
      "outputs": [
        {
          "output_type": "execute_result",
          "data": {
            "text/plain": [
              "(214, 16)"
            ]
          },
          "metadata": {},
          "execution_count": 210
        }
      ]
    },
    {
      "cell_type": "code",
      "source": [
        "#Buscamos la cantidad de datos nulos por columna\n",
        "df.isnull().sum()"
      ],
      "metadata": {
        "colab": {
          "base_uri": "https://localhost:8080/",
          "height": 586
        },
        "id": "eoYcUKUzY1xx",
        "outputId": "7a8d74bb-d954-40e7-e0a0-39124b16c1d9"
      },
      "execution_count": 211,
      "outputs": [
        {
          "output_type": "execute_result",
          "data": {
            "text/plain": [
              "id                               0\n",
              "title                            0\n",
              "seller_id                        0\n",
              "official_store_id              202\n",
              "price                            0\n",
              "currency_id                      0\n",
              "initial_quantity                 0\n",
              "condition                        0\n",
              "shipping                         0\n",
              "international_delivery_mode      0\n",
              "location                         0\n",
              "attributes                       0\n",
              "status                           0\n",
              "warranty                         3\n",
              "date_created                     0\n",
              "last_updated                     0\n",
              "dtype: int64"
            ],
            "text/html": [
              "<div>\n",
              "<style scoped>\n",
              "    .dataframe tbody tr th:only-of-type {\n",
              "        vertical-align: middle;\n",
              "    }\n",
              "\n",
              "    .dataframe tbody tr th {\n",
              "        vertical-align: top;\n",
              "    }\n",
              "\n",
              "    .dataframe thead th {\n",
              "        text-align: right;\n",
              "    }\n",
              "</style>\n",
              "<table border=\"1\" class=\"dataframe\">\n",
              "  <thead>\n",
              "    <tr style=\"text-align: right;\">\n",
              "      <th></th>\n",
              "      <th>0</th>\n",
              "    </tr>\n",
              "  </thead>\n",
              "  <tbody>\n",
              "    <tr>\n",
              "      <th>id</th>\n",
              "      <td>0</td>\n",
              "    </tr>\n",
              "    <tr>\n",
              "      <th>title</th>\n",
              "      <td>0</td>\n",
              "    </tr>\n",
              "    <tr>\n",
              "      <th>seller_id</th>\n",
              "      <td>0</td>\n",
              "    </tr>\n",
              "    <tr>\n",
              "      <th>official_store_id</th>\n",
              "      <td>202</td>\n",
              "    </tr>\n",
              "    <tr>\n",
              "      <th>price</th>\n",
              "      <td>0</td>\n",
              "    </tr>\n",
              "    <tr>\n",
              "      <th>currency_id</th>\n",
              "      <td>0</td>\n",
              "    </tr>\n",
              "    <tr>\n",
              "      <th>initial_quantity</th>\n",
              "      <td>0</td>\n",
              "    </tr>\n",
              "    <tr>\n",
              "      <th>condition</th>\n",
              "      <td>0</td>\n",
              "    </tr>\n",
              "    <tr>\n",
              "      <th>shipping</th>\n",
              "      <td>0</td>\n",
              "    </tr>\n",
              "    <tr>\n",
              "      <th>international_delivery_mode</th>\n",
              "      <td>0</td>\n",
              "    </tr>\n",
              "    <tr>\n",
              "      <th>location</th>\n",
              "      <td>0</td>\n",
              "    </tr>\n",
              "    <tr>\n",
              "      <th>attributes</th>\n",
              "      <td>0</td>\n",
              "    </tr>\n",
              "    <tr>\n",
              "      <th>status</th>\n",
              "      <td>0</td>\n",
              "    </tr>\n",
              "    <tr>\n",
              "      <th>warranty</th>\n",
              "      <td>3</td>\n",
              "    </tr>\n",
              "    <tr>\n",
              "      <th>date_created</th>\n",
              "      <td>0</td>\n",
              "    </tr>\n",
              "    <tr>\n",
              "      <th>last_updated</th>\n",
              "      <td>0</td>\n",
              "    </tr>\n",
              "  </tbody>\n",
              "</table>\n",
              "</div><br><label><b>dtype:</b> int64</label>"
            ]
          },
          "metadata": {},
          "execution_count": 211
        }
      ]
    },
    {
      "cell_type": "code",
      "source": [
        "#Cambiamos formato para mostrar números únicamente con dos decimales\n",
        "pd.options.display.float_format = '{:.2f}'.format"
      ],
      "metadata": {
        "id": "slMT3jDU97Rt"
      },
      "execution_count": 212,
      "outputs": []
    },
    {
      "cell_type": "code",
      "source": [
        "#Analizamos nuestras variables númericas\n",
        "df.describe()"
      ],
      "metadata": {
        "colab": {
          "base_uri": "https://localhost:8080/",
          "height": 300
        },
        "id": "ggHk6othxdtj",
        "outputId": "b81ae680-4888-4c50-89bf-86e9ca023720"
      },
      "execution_count": 213,
      "outputs": [
        {
          "output_type": "execute_result",
          "data": {
            "text/plain": [
              "          seller_id  official_store_id      price  initial_quantity\n",
              "count        214.00              12.00     214.00            214.00\n",
              "mean   716279412.00           33193.75 2383578.92             10.23\n",
              "std    752961826.41           49363.11  743836.68             43.00\n",
              "min       456651.00             306.00  700000.00              1.00\n",
              "25%     92908685.25            1756.75 1850000.00              1.00\n",
              "50%    308026717.50            2549.00 2284500.00              2.00\n",
              "75%   1437562941.00           66174.75 2800000.00             10.00\n",
              "max   2249684384.00          136946.00 4619990.00            593.00"
            ],
            "text/html": [
              "\n",
              "  <div id=\"df-b07f1a9d-c026-46dd-bc2c-39a529f79a51\" class=\"colab-df-container\">\n",
              "    <div>\n",
              "<style scoped>\n",
              "    .dataframe tbody tr th:only-of-type {\n",
              "        vertical-align: middle;\n",
              "    }\n",
              "\n",
              "    .dataframe tbody tr th {\n",
              "        vertical-align: top;\n",
              "    }\n",
              "\n",
              "    .dataframe thead th {\n",
              "        text-align: right;\n",
              "    }\n",
              "</style>\n",
              "<table border=\"1\" class=\"dataframe\">\n",
              "  <thead>\n",
              "    <tr style=\"text-align: right;\">\n",
              "      <th></th>\n",
              "      <th>seller_id</th>\n",
              "      <th>official_store_id</th>\n",
              "      <th>price</th>\n",
              "      <th>initial_quantity</th>\n",
              "    </tr>\n",
              "  </thead>\n",
              "  <tbody>\n",
              "    <tr>\n",
              "      <th>count</th>\n",
              "      <td>214.00</td>\n",
              "      <td>12.00</td>\n",
              "      <td>214.00</td>\n",
              "      <td>214.00</td>\n",
              "    </tr>\n",
              "    <tr>\n",
              "      <th>mean</th>\n",
              "      <td>716279412.00</td>\n",
              "      <td>33193.75</td>\n",
              "      <td>2383578.92</td>\n",
              "      <td>10.23</td>\n",
              "    </tr>\n",
              "    <tr>\n",
              "      <th>std</th>\n",
              "      <td>752961826.41</td>\n",
              "      <td>49363.11</td>\n",
              "      <td>743836.68</td>\n",
              "      <td>43.00</td>\n",
              "    </tr>\n",
              "    <tr>\n",
              "      <th>min</th>\n",
              "      <td>456651.00</td>\n",
              "      <td>306.00</td>\n",
              "      <td>700000.00</td>\n",
              "      <td>1.00</td>\n",
              "    </tr>\n",
              "    <tr>\n",
              "      <th>25%</th>\n",
              "      <td>92908685.25</td>\n",
              "      <td>1756.75</td>\n",
              "      <td>1850000.00</td>\n",
              "      <td>1.00</td>\n",
              "    </tr>\n",
              "    <tr>\n",
              "      <th>50%</th>\n",
              "      <td>308026717.50</td>\n",
              "      <td>2549.00</td>\n",
              "      <td>2284500.00</td>\n",
              "      <td>2.00</td>\n",
              "    </tr>\n",
              "    <tr>\n",
              "      <th>75%</th>\n",
              "      <td>1437562941.00</td>\n",
              "      <td>66174.75</td>\n",
              "      <td>2800000.00</td>\n",
              "      <td>10.00</td>\n",
              "    </tr>\n",
              "    <tr>\n",
              "      <th>max</th>\n",
              "      <td>2249684384.00</td>\n",
              "      <td>136946.00</td>\n",
              "      <td>4619990.00</td>\n",
              "      <td>593.00</td>\n",
              "    </tr>\n",
              "  </tbody>\n",
              "</table>\n",
              "</div>\n",
              "    <div class=\"colab-df-buttons\">\n",
              "\n",
              "  <div class=\"colab-df-container\">\n",
              "    <button class=\"colab-df-convert\" onclick=\"convertToInteractive('df-b07f1a9d-c026-46dd-bc2c-39a529f79a51')\"\n",
              "            title=\"Convert this dataframe to an interactive table.\"\n",
              "            style=\"display:none;\">\n",
              "\n",
              "  <svg xmlns=\"http://www.w3.org/2000/svg\" height=\"24px\" viewBox=\"0 -960 960 960\">\n",
              "    <path d=\"M120-120v-720h720v720H120Zm60-500h600v-160H180v160Zm220 220h160v-160H400v160Zm0 220h160v-160H400v160ZM180-400h160v-160H180v160Zm440 0h160v-160H620v160ZM180-180h160v-160H180v160Zm440 0h160v-160H620v160Z\"/>\n",
              "  </svg>\n",
              "    </button>\n",
              "\n",
              "  <style>\n",
              "    .colab-df-container {\n",
              "      display:flex;\n",
              "      gap: 12px;\n",
              "    }\n",
              "\n",
              "    .colab-df-convert {\n",
              "      background-color: #E8F0FE;\n",
              "      border: none;\n",
              "      border-radius: 50%;\n",
              "      cursor: pointer;\n",
              "      display: none;\n",
              "      fill: #1967D2;\n",
              "      height: 32px;\n",
              "      padding: 0 0 0 0;\n",
              "      width: 32px;\n",
              "    }\n",
              "\n",
              "    .colab-df-convert:hover {\n",
              "      background-color: #E2EBFA;\n",
              "      box-shadow: 0px 1px 2px rgba(60, 64, 67, 0.3), 0px 1px 3px 1px rgba(60, 64, 67, 0.15);\n",
              "      fill: #174EA6;\n",
              "    }\n",
              "\n",
              "    .colab-df-buttons div {\n",
              "      margin-bottom: 4px;\n",
              "    }\n",
              "\n",
              "    [theme=dark] .colab-df-convert {\n",
              "      background-color: #3B4455;\n",
              "      fill: #D2E3FC;\n",
              "    }\n",
              "\n",
              "    [theme=dark] .colab-df-convert:hover {\n",
              "      background-color: #434B5C;\n",
              "      box-shadow: 0px 1px 3px 1px rgba(0, 0, 0, 0.15);\n",
              "      filter: drop-shadow(0px 1px 2px rgba(0, 0, 0, 0.3));\n",
              "      fill: #FFFFFF;\n",
              "    }\n",
              "  </style>\n",
              "\n",
              "    <script>\n",
              "      const buttonEl =\n",
              "        document.querySelector('#df-b07f1a9d-c026-46dd-bc2c-39a529f79a51 button.colab-df-convert');\n",
              "      buttonEl.style.display =\n",
              "        google.colab.kernel.accessAllowed ? 'block' : 'none';\n",
              "\n",
              "      async function convertToInteractive(key) {\n",
              "        const element = document.querySelector('#df-b07f1a9d-c026-46dd-bc2c-39a529f79a51');\n",
              "        const dataTable =\n",
              "          await google.colab.kernel.invokeFunction('convertToInteractive',\n",
              "                                                    [key], {});\n",
              "        if (!dataTable) return;\n",
              "\n",
              "        const docLinkHtml = 'Like what you see? Visit the ' +\n",
              "          '<a target=\"_blank\" href=https://colab.research.google.com/notebooks/data_table.ipynb>data table notebook</a>'\n",
              "          + ' to learn more about interactive tables.';\n",
              "        element.innerHTML = '';\n",
              "        dataTable['output_type'] = 'display_data';\n",
              "        await google.colab.output.renderOutput(dataTable, element);\n",
              "        const docLink = document.createElement('div');\n",
              "        docLink.innerHTML = docLinkHtml;\n",
              "        element.appendChild(docLink);\n",
              "      }\n",
              "    </script>\n",
              "  </div>\n",
              "\n",
              "\n",
              "<div id=\"df-e78fbb47-0d64-4639-ba9b-03f8b9ae3b3e\">\n",
              "  <button class=\"colab-df-quickchart\" onclick=\"quickchart('df-e78fbb47-0d64-4639-ba9b-03f8b9ae3b3e')\"\n",
              "            title=\"Suggest charts\"\n",
              "            style=\"display:none;\">\n",
              "\n",
              "<svg xmlns=\"http://www.w3.org/2000/svg\" height=\"24px\"viewBox=\"0 0 24 24\"\n",
              "     width=\"24px\">\n",
              "    <g>\n",
              "        <path d=\"M19 3H5c-1.1 0-2 .9-2 2v14c0 1.1.9 2 2 2h14c1.1 0 2-.9 2-2V5c0-1.1-.9-2-2-2zM9 17H7v-7h2v7zm4 0h-2V7h2v10zm4 0h-2v-4h2v4z\"/>\n",
              "    </g>\n",
              "</svg>\n",
              "  </button>\n",
              "\n",
              "<style>\n",
              "  .colab-df-quickchart {\n",
              "      --bg-color: #E8F0FE;\n",
              "      --fill-color: #1967D2;\n",
              "      --hover-bg-color: #E2EBFA;\n",
              "      --hover-fill-color: #174EA6;\n",
              "      --disabled-fill-color: #AAA;\n",
              "      --disabled-bg-color: #DDD;\n",
              "  }\n",
              "\n",
              "  [theme=dark] .colab-df-quickchart {\n",
              "      --bg-color: #3B4455;\n",
              "      --fill-color: #D2E3FC;\n",
              "      --hover-bg-color: #434B5C;\n",
              "      --hover-fill-color: #FFFFFF;\n",
              "      --disabled-bg-color: #3B4455;\n",
              "      --disabled-fill-color: #666;\n",
              "  }\n",
              "\n",
              "  .colab-df-quickchart {\n",
              "    background-color: var(--bg-color);\n",
              "    border: none;\n",
              "    border-radius: 50%;\n",
              "    cursor: pointer;\n",
              "    display: none;\n",
              "    fill: var(--fill-color);\n",
              "    height: 32px;\n",
              "    padding: 0;\n",
              "    width: 32px;\n",
              "  }\n",
              "\n",
              "  .colab-df-quickchart:hover {\n",
              "    background-color: var(--hover-bg-color);\n",
              "    box-shadow: 0 1px 2px rgba(60, 64, 67, 0.3), 0 1px 3px 1px rgba(60, 64, 67, 0.15);\n",
              "    fill: var(--button-hover-fill-color);\n",
              "  }\n",
              "\n",
              "  .colab-df-quickchart-complete:disabled,\n",
              "  .colab-df-quickchart-complete:disabled:hover {\n",
              "    background-color: var(--disabled-bg-color);\n",
              "    fill: var(--disabled-fill-color);\n",
              "    box-shadow: none;\n",
              "  }\n",
              "\n",
              "  .colab-df-spinner {\n",
              "    border: 2px solid var(--fill-color);\n",
              "    border-color: transparent;\n",
              "    border-bottom-color: var(--fill-color);\n",
              "    animation:\n",
              "      spin 1s steps(1) infinite;\n",
              "  }\n",
              "\n",
              "  @keyframes spin {\n",
              "    0% {\n",
              "      border-color: transparent;\n",
              "      border-bottom-color: var(--fill-color);\n",
              "      border-left-color: var(--fill-color);\n",
              "    }\n",
              "    20% {\n",
              "      border-color: transparent;\n",
              "      border-left-color: var(--fill-color);\n",
              "      border-top-color: var(--fill-color);\n",
              "    }\n",
              "    30% {\n",
              "      border-color: transparent;\n",
              "      border-left-color: var(--fill-color);\n",
              "      border-top-color: var(--fill-color);\n",
              "      border-right-color: var(--fill-color);\n",
              "    }\n",
              "    40% {\n",
              "      border-color: transparent;\n",
              "      border-right-color: var(--fill-color);\n",
              "      border-top-color: var(--fill-color);\n",
              "    }\n",
              "    60% {\n",
              "      border-color: transparent;\n",
              "      border-right-color: var(--fill-color);\n",
              "    }\n",
              "    80% {\n",
              "      border-color: transparent;\n",
              "      border-right-color: var(--fill-color);\n",
              "      border-bottom-color: var(--fill-color);\n",
              "    }\n",
              "    90% {\n",
              "      border-color: transparent;\n",
              "      border-bottom-color: var(--fill-color);\n",
              "    }\n",
              "  }\n",
              "</style>\n",
              "\n",
              "  <script>\n",
              "    async function quickchart(key) {\n",
              "      const quickchartButtonEl =\n",
              "        document.querySelector('#' + key + ' button');\n",
              "      quickchartButtonEl.disabled = true;  // To prevent multiple clicks.\n",
              "      quickchartButtonEl.classList.add('colab-df-spinner');\n",
              "      try {\n",
              "        const charts = await google.colab.kernel.invokeFunction(\n",
              "            'suggestCharts', [key], {});\n",
              "      } catch (error) {\n",
              "        console.error('Error during call to suggestCharts:', error);\n",
              "      }\n",
              "      quickchartButtonEl.classList.remove('colab-df-spinner');\n",
              "      quickchartButtonEl.classList.add('colab-df-quickchart-complete');\n",
              "    }\n",
              "    (() => {\n",
              "      let quickchartButtonEl =\n",
              "        document.querySelector('#df-e78fbb47-0d64-4639-ba9b-03f8b9ae3b3e button');\n",
              "      quickchartButtonEl.style.display =\n",
              "        google.colab.kernel.accessAllowed ? 'block' : 'none';\n",
              "    })();\n",
              "  </script>\n",
              "</div>\n",
              "\n",
              "    </div>\n",
              "  </div>\n"
            ],
            "application/vnd.google.colaboratory.intrinsic+json": {
              "type": "dataframe",
              "summary": "{\n  \"name\": \"df\",\n  \"rows\": 8,\n  \"fields\": [\n    {\n      \"column\": \"seller_id\",\n      \"properties\": {\n        \"dtype\": \"number\",\n        \"std\": 797310883.925562,\n        \"min\": 214.0,\n        \"max\": 2249684384.0,\n        \"num_unique_values\": 8,\n        \"samples\": [\n          716279412.0046729,\n          308026717.5,\n          214.0\n        ],\n        \"semantic_type\": \"\",\n        \"description\": \"\"\n      }\n    },\n    {\n      \"column\": \"official_store_id\",\n      \"properties\": {\n        \"dtype\": \"number\",\n        \"std\": 48028.50883301884,\n        \"min\": 12.0,\n        \"max\": 136946.0,\n        \"num_unique_values\": 8,\n        \"samples\": [\n          33193.75,\n          2549.0,\n          12.0\n        ],\n        \"semantic_type\": \"\",\n        \"description\": \"\"\n      }\n    },\n    {\n      \"column\": \"price\",\n      \"properties\": {\n        \"dtype\": \"number\",\n        \"std\": 1462595.000791311,\n        \"min\": 214.0,\n        \"max\": 4619990.0,\n        \"num_unique_values\": 8,\n        \"samples\": [\n          2383578.9161682245,\n          2284500.0,\n          214.0\n        ],\n        \"semantic_type\": \"\",\n        \"description\": \"\"\n      }\n    },\n    {\n      \"column\": \"initial_quantity\",\n      \"properties\": {\n        \"dtype\": \"number\",\n        \"std\": 208.38489722295407,\n        \"min\": 1.0,\n        \"max\": 593.0,\n        \"num_unique_values\": 7,\n        \"samples\": [\n          214.0,\n          10.228971962616823,\n          10.0\n        ],\n        \"semantic_type\": \"\",\n        \"description\": \"\"\n      }\n    }\n  ]\n}"
            }
          },
          "metadata": {},
          "execution_count": 213
        }
      ]
    },
    {
      "cell_type": "code",
      "source": [
        "#Analicemos nuestras variables categóricas\n",
        "df.describe(include= [\"object\", \"bool\"])"
      ],
      "metadata": {
        "colab": {
          "base_uri": "https://localhost:8080/",
          "height": 316
        },
        "id": "ZCyXYY3KA8Vf",
        "outputId": "7609f042-6f11-4357-f8c7-59dd82ad2ec9"
      },
      "execution_count": 257,
      "outputs": [
        {
          "output_type": "execute_result",
          "data": {
            "text/plain": [
              "                   id                                              title  \\\n",
              "count             214                                                214   \n",
              "unique            214                                                189   \n",
              "top     MLA1430152419  Apple iPhone 16 (128gb) - Caja Sellada + Cargador   \n",
              "freq                1                                                  3   \n",
              "\n",
              "       currency_id condition  \\\n",
              "count          214       214   \n",
              "unique           1         2   \n",
              "top            ARS       new   \n",
              "freq           214       190   \n",
              "\n",
              "                                                 shipping  \\\n",
              "count                                                 214   \n",
              "unique                                                 22   \n",
              "top     {'mode': 'me2', 'methods': [], 'tags': ['manda...   \n",
              "freq                                                   42   \n",
              "\n",
              "       international_delivery_mode location  \\\n",
              "count                          214      214   \n",
              "unique                           2        1   \n",
              "top                           none       {}   \n",
              "freq                           200      214   \n",
              "\n",
              "                                               attributes  status  \\\n",
              "count                                                 214     214   \n",
              "unique                                                193       1   \n",
              "top     [{'id': 'ALPHANUMERIC_MODELS', 'name': 'Modelo...  active   \n",
              "freq                                                    5     214   \n",
              "\n",
              "                           warranty              last_updated  \\\n",
              "count                           211                       214   \n",
              "unique                           20                       214   \n",
              "top     Garantía de fábrica: 1 años  2025-02-05T19:15:34.100Z   \n",
              "freq                             71                         1   \n",
              "\n",
              "       warranty_options  brand  \n",
              "count               214    214  \n",
              "unique                3      3  \n",
              "top             Fábrica  Apple  \n",
              "freq                143     99  "
            ],
            "text/html": [
              "\n",
              "  <div id=\"df-8a39a4e9-d367-4fd6-b8b7-b4541a37cf3e\" class=\"colab-df-container\">\n",
              "    <div>\n",
              "<style scoped>\n",
              "    .dataframe tbody tr th:only-of-type {\n",
              "        vertical-align: middle;\n",
              "    }\n",
              "\n",
              "    .dataframe tbody tr th {\n",
              "        vertical-align: top;\n",
              "    }\n",
              "\n",
              "    .dataframe thead th {\n",
              "        text-align: right;\n",
              "    }\n",
              "</style>\n",
              "<table border=\"1\" class=\"dataframe\">\n",
              "  <thead>\n",
              "    <tr style=\"text-align: right;\">\n",
              "      <th></th>\n",
              "      <th>id</th>\n",
              "      <th>title</th>\n",
              "      <th>currency_id</th>\n",
              "      <th>condition</th>\n",
              "      <th>shipping</th>\n",
              "      <th>international_delivery_mode</th>\n",
              "      <th>location</th>\n",
              "      <th>attributes</th>\n",
              "      <th>status</th>\n",
              "      <th>warranty</th>\n",
              "      <th>last_updated</th>\n",
              "      <th>warranty_options</th>\n",
              "      <th>brand</th>\n",
              "    </tr>\n",
              "  </thead>\n",
              "  <tbody>\n",
              "    <tr>\n",
              "      <th>count</th>\n",
              "      <td>214</td>\n",
              "      <td>214</td>\n",
              "      <td>214</td>\n",
              "      <td>214</td>\n",
              "      <td>214</td>\n",
              "      <td>214</td>\n",
              "      <td>214</td>\n",
              "      <td>214</td>\n",
              "      <td>214</td>\n",
              "      <td>211</td>\n",
              "      <td>214</td>\n",
              "      <td>214</td>\n",
              "      <td>214</td>\n",
              "    </tr>\n",
              "    <tr>\n",
              "      <th>unique</th>\n",
              "      <td>214</td>\n",
              "      <td>189</td>\n",
              "      <td>1</td>\n",
              "      <td>2</td>\n",
              "      <td>22</td>\n",
              "      <td>2</td>\n",
              "      <td>1</td>\n",
              "      <td>193</td>\n",
              "      <td>1</td>\n",
              "      <td>20</td>\n",
              "      <td>214</td>\n",
              "      <td>3</td>\n",
              "      <td>3</td>\n",
              "    </tr>\n",
              "    <tr>\n",
              "      <th>top</th>\n",
              "      <td>MLA1430152419</td>\n",
              "      <td>Apple iPhone 16 (128gb) - Caja Sellada + Cargador</td>\n",
              "      <td>ARS</td>\n",
              "      <td>new</td>\n",
              "      <td>{'mode': 'me2', 'methods': [], 'tags': ['manda...</td>\n",
              "      <td>none</td>\n",
              "      <td>{}</td>\n",
              "      <td>[{'id': 'ALPHANUMERIC_MODELS', 'name': 'Modelo...</td>\n",
              "      <td>active</td>\n",
              "      <td>Garantía de fábrica: 1 años</td>\n",
              "      <td>2025-02-05T19:15:34.100Z</td>\n",
              "      <td>Fábrica</td>\n",
              "      <td>Apple</td>\n",
              "    </tr>\n",
              "    <tr>\n",
              "      <th>freq</th>\n",
              "      <td>1</td>\n",
              "      <td>3</td>\n",
              "      <td>214</td>\n",
              "      <td>190</td>\n",
              "      <td>42</td>\n",
              "      <td>200</td>\n",
              "      <td>214</td>\n",
              "      <td>5</td>\n",
              "      <td>214</td>\n",
              "      <td>71</td>\n",
              "      <td>1</td>\n",
              "      <td>143</td>\n",
              "      <td>99</td>\n",
              "    </tr>\n",
              "  </tbody>\n",
              "</table>\n",
              "</div>\n",
              "    <div class=\"colab-df-buttons\">\n",
              "\n",
              "  <div class=\"colab-df-container\">\n",
              "    <button class=\"colab-df-convert\" onclick=\"convertToInteractive('df-8a39a4e9-d367-4fd6-b8b7-b4541a37cf3e')\"\n",
              "            title=\"Convert this dataframe to an interactive table.\"\n",
              "            style=\"display:none;\">\n",
              "\n",
              "  <svg xmlns=\"http://www.w3.org/2000/svg\" height=\"24px\" viewBox=\"0 -960 960 960\">\n",
              "    <path d=\"M120-120v-720h720v720H120Zm60-500h600v-160H180v160Zm220 220h160v-160H400v160Zm0 220h160v-160H400v160ZM180-400h160v-160H180v160Zm440 0h160v-160H620v160ZM180-180h160v-160H180v160Zm440 0h160v-160H620v160Z\"/>\n",
              "  </svg>\n",
              "    </button>\n",
              "\n",
              "  <style>\n",
              "    .colab-df-container {\n",
              "      display:flex;\n",
              "      gap: 12px;\n",
              "    }\n",
              "\n",
              "    .colab-df-convert {\n",
              "      background-color: #E8F0FE;\n",
              "      border: none;\n",
              "      border-radius: 50%;\n",
              "      cursor: pointer;\n",
              "      display: none;\n",
              "      fill: #1967D2;\n",
              "      height: 32px;\n",
              "      padding: 0 0 0 0;\n",
              "      width: 32px;\n",
              "    }\n",
              "\n",
              "    .colab-df-convert:hover {\n",
              "      background-color: #E2EBFA;\n",
              "      box-shadow: 0px 1px 2px rgba(60, 64, 67, 0.3), 0px 1px 3px 1px rgba(60, 64, 67, 0.15);\n",
              "      fill: #174EA6;\n",
              "    }\n",
              "\n",
              "    .colab-df-buttons div {\n",
              "      margin-bottom: 4px;\n",
              "    }\n",
              "\n",
              "    [theme=dark] .colab-df-convert {\n",
              "      background-color: #3B4455;\n",
              "      fill: #D2E3FC;\n",
              "    }\n",
              "\n",
              "    [theme=dark] .colab-df-convert:hover {\n",
              "      background-color: #434B5C;\n",
              "      box-shadow: 0px 1px 3px 1px rgba(0, 0, 0, 0.15);\n",
              "      filter: drop-shadow(0px 1px 2px rgba(0, 0, 0, 0.3));\n",
              "      fill: #FFFFFF;\n",
              "    }\n",
              "  </style>\n",
              "\n",
              "    <script>\n",
              "      const buttonEl =\n",
              "        document.querySelector('#df-8a39a4e9-d367-4fd6-b8b7-b4541a37cf3e button.colab-df-convert');\n",
              "      buttonEl.style.display =\n",
              "        google.colab.kernel.accessAllowed ? 'block' : 'none';\n",
              "\n",
              "      async function convertToInteractive(key) {\n",
              "        const element = document.querySelector('#df-8a39a4e9-d367-4fd6-b8b7-b4541a37cf3e');\n",
              "        const dataTable =\n",
              "          await google.colab.kernel.invokeFunction('convertToInteractive',\n",
              "                                                    [key], {});\n",
              "        if (!dataTable) return;\n",
              "\n",
              "        const docLinkHtml = 'Like what you see? Visit the ' +\n",
              "          '<a target=\"_blank\" href=https://colab.research.google.com/notebooks/data_table.ipynb>data table notebook</a>'\n",
              "          + ' to learn more about interactive tables.';\n",
              "        element.innerHTML = '';\n",
              "        dataTable['output_type'] = 'display_data';\n",
              "        await google.colab.output.renderOutput(dataTable, element);\n",
              "        const docLink = document.createElement('div');\n",
              "        docLink.innerHTML = docLinkHtml;\n",
              "        element.appendChild(docLink);\n",
              "      }\n",
              "    </script>\n",
              "  </div>\n",
              "\n",
              "\n",
              "<div id=\"df-cb49a280-440a-4287-a011-ade27405ab9a\">\n",
              "  <button class=\"colab-df-quickchart\" onclick=\"quickchart('df-cb49a280-440a-4287-a011-ade27405ab9a')\"\n",
              "            title=\"Suggest charts\"\n",
              "            style=\"display:none;\">\n",
              "\n",
              "<svg xmlns=\"http://www.w3.org/2000/svg\" height=\"24px\"viewBox=\"0 0 24 24\"\n",
              "     width=\"24px\">\n",
              "    <g>\n",
              "        <path d=\"M19 3H5c-1.1 0-2 .9-2 2v14c0 1.1.9 2 2 2h14c1.1 0 2-.9 2-2V5c0-1.1-.9-2-2-2zM9 17H7v-7h2v7zm4 0h-2V7h2v10zm4 0h-2v-4h2v4z\"/>\n",
              "    </g>\n",
              "</svg>\n",
              "  </button>\n",
              "\n",
              "<style>\n",
              "  .colab-df-quickchart {\n",
              "      --bg-color: #E8F0FE;\n",
              "      --fill-color: #1967D2;\n",
              "      --hover-bg-color: #E2EBFA;\n",
              "      --hover-fill-color: #174EA6;\n",
              "      --disabled-fill-color: #AAA;\n",
              "      --disabled-bg-color: #DDD;\n",
              "  }\n",
              "\n",
              "  [theme=dark] .colab-df-quickchart {\n",
              "      --bg-color: #3B4455;\n",
              "      --fill-color: #D2E3FC;\n",
              "      --hover-bg-color: #434B5C;\n",
              "      --hover-fill-color: #FFFFFF;\n",
              "      --disabled-bg-color: #3B4455;\n",
              "      --disabled-fill-color: #666;\n",
              "  }\n",
              "\n",
              "  .colab-df-quickchart {\n",
              "    background-color: var(--bg-color);\n",
              "    border: none;\n",
              "    border-radius: 50%;\n",
              "    cursor: pointer;\n",
              "    display: none;\n",
              "    fill: var(--fill-color);\n",
              "    height: 32px;\n",
              "    padding: 0;\n",
              "    width: 32px;\n",
              "  }\n",
              "\n",
              "  .colab-df-quickchart:hover {\n",
              "    background-color: var(--hover-bg-color);\n",
              "    box-shadow: 0 1px 2px rgba(60, 64, 67, 0.3), 0 1px 3px 1px rgba(60, 64, 67, 0.15);\n",
              "    fill: var(--button-hover-fill-color);\n",
              "  }\n",
              "\n",
              "  .colab-df-quickchart-complete:disabled,\n",
              "  .colab-df-quickchart-complete:disabled:hover {\n",
              "    background-color: var(--disabled-bg-color);\n",
              "    fill: var(--disabled-fill-color);\n",
              "    box-shadow: none;\n",
              "  }\n",
              "\n",
              "  .colab-df-spinner {\n",
              "    border: 2px solid var(--fill-color);\n",
              "    border-color: transparent;\n",
              "    border-bottom-color: var(--fill-color);\n",
              "    animation:\n",
              "      spin 1s steps(1) infinite;\n",
              "  }\n",
              "\n",
              "  @keyframes spin {\n",
              "    0% {\n",
              "      border-color: transparent;\n",
              "      border-bottom-color: var(--fill-color);\n",
              "      border-left-color: var(--fill-color);\n",
              "    }\n",
              "    20% {\n",
              "      border-color: transparent;\n",
              "      border-left-color: var(--fill-color);\n",
              "      border-top-color: var(--fill-color);\n",
              "    }\n",
              "    30% {\n",
              "      border-color: transparent;\n",
              "      border-left-color: var(--fill-color);\n",
              "      border-top-color: var(--fill-color);\n",
              "      border-right-color: var(--fill-color);\n",
              "    }\n",
              "    40% {\n",
              "      border-color: transparent;\n",
              "      border-right-color: var(--fill-color);\n",
              "      border-top-color: var(--fill-color);\n",
              "    }\n",
              "    60% {\n",
              "      border-color: transparent;\n",
              "      border-right-color: var(--fill-color);\n",
              "    }\n",
              "    80% {\n",
              "      border-color: transparent;\n",
              "      border-right-color: var(--fill-color);\n",
              "      border-bottom-color: var(--fill-color);\n",
              "    }\n",
              "    90% {\n",
              "      border-color: transparent;\n",
              "      border-bottom-color: var(--fill-color);\n",
              "    }\n",
              "  }\n",
              "</style>\n",
              "\n",
              "  <script>\n",
              "    async function quickchart(key) {\n",
              "      const quickchartButtonEl =\n",
              "        document.querySelector('#' + key + ' button');\n",
              "      quickchartButtonEl.disabled = true;  // To prevent multiple clicks.\n",
              "      quickchartButtonEl.classList.add('colab-df-spinner');\n",
              "      try {\n",
              "        const charts = await google.colab.kernel.invokeFunction(\n",
              "            'suggestCharts', [key], {});\n",
              "      } catch (error) {\n",
              "        console.error('Error during call to suggestCharts:', error);\n",
              "      }\n",
              "      quickchartButtonEl.classList.remove('colab-df-spinner');\n",
              "      quickchartButtonEl.classList.add('colab-df-quickchart-complete');\n",
              "    }\n",
              "    (() => {\n",
              "      let quickchartButtonEl =\n",
              "        document.querySelector('#df-cb49a280-440a-4287-a011-ade27405ab9a button');\n",
              "      quickchartButtonEl.style.display =\n",
              "        google.colab.kernel.accessAllowed ? 'block' : 'none';\n",
              "    })();\n",
              "  </script>\n",
              "</div>\n",
              "\n",
              "    </div>\n",
              "  </div>\n"
            ],
            "application/vnd.google.colaboratory.intrinsic+json": {
              "type": "dataframe",
              "summary": "{\n  \"name\": \"df\",\n  \"rows\": 4,\n  \"fields\": [\n    {\n      \"column\": \"id\",\n      \"properties\": {\n        \"dtype\": \"string\",\n        \"num_unique_values\": 3,\n        \"samples\": [\n          \"214\",\n          \"MLA1430152419\",\n          \"1\"\n        ],\n        \"semantic_type\": \"\",\n        \"description\": \"\"\n      }\n    },\n    {\n      \"column\": \"title\",\n      \"properties\": {\n        \"dtype\": \"string\",\n        \"num_unique_values\": 4,\n        \"samples\": [\n          189,\n          \"3\",\n          \"214\"\n        ],\n        \"semantic_type\": \"\",\n        \"description\": \"\"\n      }\n    },\n    {\n      \"column\": \"currency_id\",\n      \"properties\": {\n        \"dtype\": \"string\",\n        \"num_unique_values\": 3,\n        \"samples\": [\n          \"214\",\n          1,\n          \"ARS\"\n        ],\n        \"semantic_type\": \"\",\n        \"description\": \"\"\n      }\n    },\n    {\n      \"column\": \"condition\",\n      \"properties\": {\n        \"dtype\": \"string\",\n        \"num_unique_values\": 4,\n        \"samples\": [\n          2,\n          \"190\",\n          \"214\"\n        ],\n        \"semantic_type\": \"\",\n        \"description\": \"\"\n      }\n    },\n    {\n      \"column\": \"shipping\",\n      \"properties\": {\n        \"dtype\": \"string\",\n        \"num_unique_values\": 4,\n        \"samples\": [\n          22,\n          \"42\",\n          \"214\"\n        ],\n        \"semantic_type\": \"\",\n        \"description\": \"\"\n      }\n    },\n    {\n      \"column\": \"international_delivery_mode\",\n      \"properties\": {\n        \"dtype\": \"string\",\n        \"num_unique_values\": 4,\n        \"samples\": [\n          2,\n          \"200\",\n          \"214\"\n        ],\n        \"semantic_type\": \"\",\n        \"description\": \"\"\n      }\n    },\n    {\n      \"column\": \"location\",\n      \"properties\": {\n        \"dtype\": \"string\",\n        \"num_unique_values\": 3,\n        \"samples\": [\n          \"214\",\n          1,\n          \"{}\"\n        ],\n        \"semantic_type\": \"\",\n        \"description\": \"\"\n      }\n    },\n    {\n      \"column\": \"attributes\",\n      \"properties\": {\n        \"dtype\": \"string\",\n        \"num_unique_values\": 4,\n        \"samples\": [\n          193,\n          \"5\",\n          \"214\"\n        ],\n        \"semantic_type\": \"\",\n        \"description\": \"\"\n      }\n    },\n    {\n      \"column\": \"status\",\n      \"properties\": {\n        \"dtype\": \"string\",\n        \"num_unique_values\": 3,\n        \"samples\": [\n          \"214\",\n          1,\n          \"active\"\n        ],\n        \"semantic_type\": \"\",\n        \"description\": \"\"\n      }\n    },\n    {\n      \"column\": \"warranty\",\n      \"properties\": {\n        \"dtype\": \"string\",\n        \"num_unique_values\": 4,\n        \"samples\": [\n          20,\n          \"71\",\n          \"211\"\n        ],\n        \"semantic_type\": \"\",\n        \"description\": \"\"\n      }\n    },\n    {\n      \"column\": \"last_updated\",\n      \"properties\": {\n        \"dtype\": \"string\",\n        \"num_unique_values\": 3,\n        \"samples\": [\n          \"214\",\n          \"2025-02-05T19:15:34.100Z\",\n          \"1\"\n        ],\n        \"semantic_type\": \"\",\n        \"description\": \"\"\n      }\n    },\n    {\n      \"column\": \"warranty_options\",\n      \"properties\": {\n        \"dtype\": \"string\",\n        \"num_unique_values\": 4,\n        \"samples\": [\n          3,\n          \"143\",\n          \"214\"\n        ],\n        \"semantic_type\": \"\",\n        \"description\": \"\"\n      }\n    },\n    {\n      \"column\": \"brand\",\n      \"properties\": {\n        \"dtype\": \"string\",\n        \"num_unique_values\": 4,\n        \"samples\": [\n          3,\n          \"99\",\n          \"214\"\n        ],\n        \"semantic_type\": \"\",\n        \"description\": \"\"\n      }\n    }\n  ]\n}"
            }
          },
          "metadata": {},
          "execution_count": 257
        }
      ]
    },
    {
      "cell_type": "markdown",
      "source": [
        "* En nuestra muestra hay 214 vendedores únicos.\n",
        "* Hay 12 publicaciones vendidas por tiendas oficiales los celulares seleccionados.\n",
        "* La única modena en nuestra muestra es el peso argentino.\n",
        "* El precio promedio de los celulares es de $2.383.578, la opción más barata cuesta $700.000 y la más cara $4.619.990.\n",
        "* La mayoria de vendedores comienza con 8 productos en stock, y el vendedor que más celulares ha tenido en stock, tuvo 101 celulares en stock.\n",
        "* 188 publicaciones es sobre celulares nuevos, siendo solo 26 sobre celulares usados.\n",
        "* 200 publicaciones no tienen envio intenarnacional y 14 si lo tienen.\n",
        "* Hay 19 tipos de garantías distintas, la más usual corresponde a la garantía de fábrica de un año.\n"
      ],
      "metadata": {
        "id": "7qA_ygXE_aWk"
      }
    },
    {
      "cell_type": "code",
      "source": [
        "# Veamos la distribución de algunas categorías porcentualmente\n",
        "print(df[\"condition\"].value_counts(normalize= True)* 100)\n",
        "print(df[\"international_delivery_mode\"].value_counts(normalize= True)* 100)\n",
        "print(df[\"warranty\"].value_counts(normalize= True)* 100)\n",
        "print(df[\"title\"].value_counts(normalize= True)* 100)\n",
        "\n"
      ],
      "metadata": {
        "colab": {
          "base_uri": "https://localhost:8080/"
        },
        "id": "nGmd-XruobRa",
        "outputId": "f8143b97-7bc1-4fb9-8bc2-eb179814854b"
      },
      "execution_count": 215,
      "outputs": [
        {
          "output_type": "stream",
          "name": "stdout",
          "text": [
            "condition\n",
            "new    88.79\n",
            "used   11.21\n",
            "Name: proportion, dtype: float64\n",
            "international_delivery_mode\n",
            "none   93.46\n",
            "DDP     6.54\n",
            "Name: proportion, dtype: float64\n",
            "warranty\n",
            "Garantía de fábrica: 1 años      33.65\n",
            "Garantía de fábrica: 12 meses    21.33\n",
            "Sin garantía                     13.27\n",
            "Garantía del vendedor: 3 meses    9.00\n",
            "Garantía de fábrica: 30 días      4.74\n",
            "Garantía del vendedor: 6 meses    3.79\n",
            "Garantía de fábrica: 6 meses      3.79\n",
            "Garantía del vendedor: 30 días    1.90\n",
            "Garantía de fábrica: 1 meses      1.42\n",
            "Garantía del vendedor: 1 años     1.42\n",
            "Garantía del vendedor: 10 días    0.95\n",
            "Garantía de fábrica: 7 meses      0.95\n",
            "Garantía del vendedor: 90 días    0.47\n",
            "Garantía de fábrica: 90 días      0.47\n",
            "Garantía del vendedor: 60 días    0.47\n",
            "Garantía de fábrica: 1 días       0.47\n",
            "Garantía del vendedor: 7 días     0.47\n",
            "Garantía de fábrica: 12 años      0.47\n",
            "Garantía del vendedor: 15 días    0.47\n",
            "Garantía de fábrica: 3 meses      0.47\n",
            "Name: proportion, dtype: float64\n",
            "title\n",
            "Apple iPhone 16 (128gb) - Caja Sellada + Cargador              1.40\n",
            "Apple iPhone 16 Pro Max 256gb - Caja Sellada + Cargador        1.40\n",
            "Samsung S24 Ultra                                              1.40\n",
            "Samsung Galaxy S24 Ultra 256 Gb Negro 12 Gb Ram                0.93\n",
            "Samsung S24 Ultra 12gb Ram Perfectly New 512gb Violet 5g       0.93\n",
            "                                                               ... \n",
            "Samsung Galaxy S24 Ultra 512gb Titanium                        0.47\n",
            "Samsung Galaxy S24 Ultra 5g Dual Sim 512 Gb                    0.47\n",
            "Samsung Galaxy S24 Ultra 256gb 12gb Ram Violeta + 2 Fundas+p   0.47\n",
            "Samsung S24 Ultra 256gb (nuevo Sellado)                        0.47\n",
            "Google Pixel 8 Pro 128 Gb Blanco 12 Gb Ram                     0.47\n",
            "Name: proportion, Length: 189, dtype: float64\n"
          ]
        }
      ]
    },
    {
      "cell_type": "markdown",
      "source": [
        "* 87.85% de los celulares publicados corresponden a equipos nuevos\n",
        "* Solo el 6.54% de las publicaciones tienen como modo de envio DDL, un tipo de servicio de envios courier.\n",
        "* Respecto a la garantía, podemos observar 3 grandes categorías, a continuación tranformaremos la columna para un mejor análisis."
      ],
      "metadata": {
        "id": "BKab1k3Zrtq1"
      }
    },
    {
      "cell_type": "code",
      "source": [
        "#Transformenos la variable warranty para considerar solo 3 opciones, garantía del vendedor, de fábrica o sin garantía.\n",
        "condicionesWarranty = [\n",
        "    df['warranty'].str.contains('vendedor', case=False, na=False),\n",
        "    df['warranty'].str.contains('fábrica', case=False, na=False),\n",
        "    df['warranty'].str.contains('sin garantía', case=False, na=False)\n",
        "]\n",
        "\n",
        "# Definir valores asignados a las categorías\n",
        "valores = ['Vendedor', 'Fábrica', 'Sin garantía']\n",
        "\n",
        "# Crear nueva columna con las categorías reducidas\n",
        "df['warranty_options'] = np.select(condicionesWarranty, valores, default='Sin garantía')\n",
        "\n",
        "print(df[\"warranty_options\"].value_counts(normalize= True)* 100)"
      ],
      "metadata": {
        "colab": {
          "base_uri": "https://localhost:8080/"
        },
        "outputId": "de8c4eda-9767-4c3c-cd1d-c709cc41f178",
        "id": "Titw9IhN1Z-e"
      },
      "execution_count": 216,
      "outputs": [
        {
          "output_type": "stream",
          "name": "stdout",
          "text": [
            "warranty_options\n",
            "Fábrica        66.82\n",
            "Vendedor       18.69\n",
            "Sin garantía   14.49\n",
            "Name: proportion, dtype: float64\n"
          ]
        }
      ]
    },
    {
      "cell_type": "markdown",
      "source": [
        "* Luego de la transformación podemos afirmar que el 66.82% de las publicaciones cuentan con garantía de fábrica, el 18.22% la misma garantía es proveída por el vendedor y el 14.95% no posee garantía."
      ],
      "metadata": {
        "id": "Pq0WWpYmsY88"
      }
    },
    {
      "cell_type": "code",
      "source": [
        "#Transformenos la variable title para crear una category \"brand\" con 3 opciones, Samsung , Google y Apple\n",
        "condicionesBrand = [\n",
        "    df['title'].str.contains('Iphone', case=False, na=False),\n",
        "    df['title'].str.contains('Google', case=False, na=False),\n",
        "    df['title'].str.contains('Samsung', case=False, na=False)\n",
        "]\n",
        "\n",
        "# Definir valores asignados a las categorías\n",
        "valores = ['Apple', 'Google', 'Samsung']\n",
        "\n",
        "# Crear nueva columna con las categorías reducidas\n",
        "df['brand'] = np.select(condicionesBrand, valores, default='Otro')\n",
        "\n",
        "print(df[\"brand\"].value_counts(normalize= True)* 100)"
      ],
      "metadata": {
        "colab": {
          "base_uri": "https://localhost:8080/"
        },
        "id": "GuyYBi5Xuoxv",
        "outputId": "8b202fe7-d6bd-4e85-ef5c-14286ee9de1a"
      },
      "execution_count": 217,
      "outputs": [
        {
          "output_type": "stream",
          "name": "stdout",
          "text": [
            "brand\n",
            "Apple     46.26\n",
            "Samsung   42.99\n",
            "Google     8.41\n",
            "Otro       2.34\n",
            "Name: proportion, dtype: float64\n"
          ]
        }
      ]
    },
    {
      "cell_type": "markdown",
      "source": [],
      "metadata": {
        "id": "ZJXuS7HEPHW9"
      }
    },
    {
      "cell_type": "code",
      "source": [
        "# Controlamos la categoría \"Otro\" para ver a que celular corresponde\n",
        "rows_con_otro = df[df['brand'] == 'Otro']\n",
        "\n",
        "print(rows_con_otro[\"title\"])"
      ],
      "metadata": {
        "colab": {
          "base_uri": "https://localhost:8080/"
        },
        "id": "2KxShWMIvOiF",
        "outputId": "dbe46ffe-3bcb-4b59-ed49-2147ed08ecfe"
      },
      "execution_count": 218,
      "outputs": [
        {
          "output_type": "stream",
          "name": "stdout",
          "text": [
            "29                              S24 Ultra Black - 256gb\n",
            "42       Galaxy S24 Ultra Titanium Black 12gb Ram 256gb\n",
            "46                    Galaxy S24 Ultra 512 Gb (sin Uso)\n",
            "48    S 24 Ultra - Caja Sellada - 512-negro Con Carg...\n",
            "68    S 24 Ultra - Caja Sellada - Leer Todo Con Carg...\n",
            "Name: title, dtype: object\n"
          ]
        }
      ]
    },
    {
      "cell_type": "markdown",
      "source": [
        "Las 5 opciones de otro corresponden a celulares de la marca Samsung"
      ],
      "metadata": {
        "id": "PCCoxZojyUhM"
      }
    },
    {
      "cell_type": "code",
      "source": [
        "# Cambiar las filas con opción otro a Samsung\n",
        "df.loc[df['brand'] == 'Otro', 'brand'] = 'Samsung'"
      ],
      "metadata": {
        "id": "Jdgt7mBqyyEy"
      },
      "execution_count": 219,
      "outputs": []
    },
    {
      "cell_type": "markdown",
      "source": [
        "* De las publicaciones analizadas, 46.26 corresponden a Apple y al Iphone 16 , 45.33 al Samsung S24 y solo 8.41 a Google Pixel."
      ],
      "metadata": {
        "id": "Or8_yIOTPa9P"
      }
    },
    {
      "cell_type": "code",
      "source": [
        "df.sample(5)"
      ],
      "metadata": {
        "colab": {
          "base_uri": "https://localhost:8080/",
          "height": 833
        },
        "id": "9E32aoG4zNZv",
        "outputId": "e120b301-c2ee-4868-8bce-a963069e7b33"
      },
      "execution_count": 220,
      "outputs": [
        {
          "output_type": "execute_result",
          "data": {
            "text/plain": [
              "                id                                              title  \\\n",
              "130  MLA1950375550  Apple iPhone 16 (128gb) - Caja Sellada + Cargador   \n",
              "145  MLA1967992034  Nuevo iPhone 16 Pro Max 256gb Titanio- Regalo ...   \n",
              "207  MLA1446567217  Google Pixel 9 Pro Xl 256gb 16gb Ram Android S...   \n",
              "198  MLA1455326651  Google Pixel 9 Pro Xl 256gb 16gb Ram Android B...   \n",
              "184  MLA2007517140  Apple iPhone 16 Pro Max 256gb 8gb Ram Desert T...   \n",
              "\n",
              "      seller_id  official_store_id      price currency_id  initial_quantity  \\\n",
              "130  1963351163                NaN 2749999.00         ARS                10   \n",
              "145  1983635245                NaN 2999000.00         ARS                10   \n",
              "207   249912510                NaN 2999999.00         ARS                 2   \n",
              "198  1473497418                NaN 2869499.00         ARS                 2   \n",
              "184  1996082170                NaN 2799990.00         ARS                 1   \n",
              "\n",
              "    condition                                           shipping  \\\n",
              "130       new  {'mode': 'me2', 'methods': [], 'tags': ['manda...   \n",
              "145       new  {'mode': 'me2', 'methods': [], 'tags': ['manda...   \n",
              "207       new  {'mode': 'me2', 'methods': [], 'tags': ['manda...   \n",
              "198       new  {'mode': 'me2', 'methods': [], 'tags': ['manda...   \n",
              "184       new  {'mode': 'me2', 'methods': [], 'tags': ['manda...   \n",
              "\n",
              "    international_delivery_mode location  \\\n",
              "130                        none       {}   \n",
              "145                        none       {}   \n",
              "207                        none       {}   \n",
              "198                        none       {}   \n",
              "184                        none       {}   \n",
              "\n",
              "                                            attributes  status  \\\n",
              "130  [{'id': 'ACCESSORIES_INCLUDED', 'name': 'Acces...  active   \n",
              "145  [{'id': 'BRAND', 'name': 'Marca', 'value_id': ...  active   \n",
              "207  [{'id': 'ACCESSORIES_INCLUDED', 'name': 'Acces...  active   \n",
              "198  [{'id': 'BRAND', 'name': 'Marca', 'value_id': ...  active   \n",
              "184  [{'id': 'ACCESSORIES_INCLUDED', 'name': 'Acces...  active   \n",
              "\n",
              "                           warranty              date_created  \\\n",
              "130   Garantía de fábrica: 12 meses  2024-11-04T01:21:47.482Z   \n",
              "145    Garantía de fábrica: 6 meses  2024-11-29T13:19:03.578Z   \n",
              "207     Garantía de fábrica: 1 años  2024-08-29T07:59:23.610Z   \n",
              "198  Garantía del vendedor: 6 meses  2024-10-15T17:34:26.180Z   \n",
              "184     Garantía de fábrica: 1 años  2025-02-04T12:47:39.884Z   \n",
              "\n",
              "                 last_updated warranty_options   brand  \n",
              "130  2025-02-07T01:49:29.504Z          Fábrica   Apple  \n",
              "145  2025-01-27T20:38:49.512Z          Fábrica   Apple  \n",
              "207  2025-01-06T00:33:49.958Z          Fábrica  Google  \n",
              "198  2024-12-19T16:33:32.714Z         Vendedor  Google  \n",
              "184  2025-02-04T12:50:19.070Z          Fábrica   Apple  "
            ],
            "text/html": [
              "\n",
              "  <div id=\"df-aa5de34f-c736-4341-b766-c873214d4a97\" class=\"colab-df-container\">\n",
              "    <div>\n",
              "<style scoped>\n",
              "    .dataframe tbody tr th:only-of-type {\n",
              "        vertical-align: middle;\n",
              "    }\n",
              "\n",
              "    .dataframe tbody tr th {\n",
              "        vertical-align: top;\n",
              "    }\n",
              "\n",
              "    .dataframe thead th {\n",
              "        text-align: right;\n",
              "    }\n",
              "</style>\n",
              "<table border=\"1\" class=\"dataframe\">\n",
              "  <thead>\n",
              "    <tr style=\"text-align: right;\">\n",
              "      <th></th>\n",
              "      <th>id</th>\n",
              "      <th>title</th>\n",
              "      <th>seller_id</th>\n",
              "      <th>official_store_id</th>\n",
              "      <th>price</th>\n",
              "      <th>currency_id</th>\n",
              "      <th>initial_quantity</th>\n",
              "      <th>condition</th>\n",
              "      <th>shipping</th>\n",
              "      <th>international_delivery_mode</th>\n",
              "      <th>location</th>\n",
              "      <th>attributes</th>\n",
              "      <th>status</th>\n",
              "      <th>warranty</th>\n",
              "      <th>date_created</th>\n",
              "      <th>last_updated</th>\n",
              "      <th>warranty_options</th>\n",
              "      <th>brand</th>\n",
              "    </tr>\n",
              "  </thead>\n",
              "  <tbody>\n",
              "    <tr>\n",
              "      <th>130</th>\n",
              "      <td>MLA1950375550</td>\n",
              "      <td>Apple iPhone 16 (128gb) - Caja Sellada + Cargador</td>\n",
              "      <td>1963351163</td>\n",
              "      <td>NaN</td>\n",
              "      <td>2749999.00</td>\n",
              "      <td>ARS</td>\n",
              "      <td>10</td>\n",
              "      <td>new</td>\n",
              "      <td>{'mode': 'me2', 'methods': [], 'tags': ['manda...</td>\n",
              "      <td>none</td>\n",
              "      <td>{}</td>\n",
              "      <td>[{'id': 'ACCESSORIES_INCLUDED', 'name': 'Acces...</td>\n",
              "      <td>active</td>\n",
              "      <td>Garantía de fábrica: 12 meses</td>\n",
              "      <td>2024-11-04T01:21:47.482Z</td>\n",
              "      <td>2025-02-07T01:49:29.504Z</td>\n",
              "      <td>Fábrica</td>\n",
              "      <td>Apple</td>\n",
              "    </tr>\n",
              "    <tr>\n",
              "      <th>145</th>\n",
              "      <td>MLA1967992034</td>\n",
              "      <td>Nuevo iPhone 16 Pro Max 256gb Titanio- Regalo ...</td>\n",
              "      <td>1983635245</td>\n",
              "      <td>NaN</td>\n",
              "      <td>2999000.00</td>\n",
              "      <td>ARS</td>\n",
              "      <td>10</td>\n",
              "      <td>new</td>\n",
              "      <td>{'mode': 'me2', 'methods': [], 'tags': ['manda...</td>\n",
              "      <td>none</td>\n",
              "      <td>{}</td>\n",
              "      <td>[{'id': 'BRAND', 'name': 'Marca', 'value_id': ...</td>\n",
              "      <td>active</td>\n",
              "      <td>Garantía de fábrica: 6 meses</td>\n",
              "      <td>2024-11-29T13:19:03.578Z</td>\n",
              "      <td>2025-01-27T20:38:49.512Z</td>\n",
              "      <td>Fábrica</td>\n",
              "      <td>Apple</td>\n",
              "    </tr>\n",
              "    <tr>\n",
              "      <th>207</th>\n",
              "      <td>MLA1446567217</td>\n",
              "      <td>Google Pixel 9 Pro Xl 256gb 16gb Ram Android S...</td>\n",
              "      <td>249912510</td>\n",
              "      <td>NaN</td>\n",
              "      <td>2999999.00</td>\n",
              "      <td>ARS</td>\n",
              "      <td>2</td>\n",
              "      <td>new</td>\n",
              "      <td>{'mode': 'me2', 'methods': [], 'tags': ['manda...</td>\n",
              "      <td>none</td>\n",
              "      <td>{}</td>\n",
              "      <td>[{'id': 'ACCESSORIES_INCLUDED', 'name': 'Acces...</td>\n",
              "      <td>active</td>\n",
              "      <td>Garantía de fábrica: 1 años</td>\n",
              "      <td>2024-08-29T07:59:23.610Z</td>\n",
              "      <td>2025-01-06T00:33:49.958Z</td>\n",
              "      <td>Fábrica</td>\n",
              "      <td>Google</td>\n",
              "    </tr>\n",
              "    <tr>\n",
              "      <th>198</th>\n",
              "      <td>MLA1455326651</td>\n",
              "      <td>Google Pixel 9 Pro Xl 256gb 16gb Ram Android B...</td>\n",
              "      <td>1473497418</td>\n",
              "      <td>NaN</td>\n",
              "      <td>2869499.00</td>\n",
              "      <td>ARS</td>\n",
              "      <td>2</td>\n",
              "      <td>new</td>\n",
              "      <td>{'mode': 'me2', 'methods': [], 'tags': ['manda...</td>\n",
              "      <td>none</td>\n",
              "      <td>{}</td>\n",
              "      <td>[{'id': 'BRAND', 'name': 'Marca', 'value_id': ...</td>\n",
              "      <td>active</td>\n",
              "      <td>Garantía del vendedor: 6 meses</td>\n",
              "      <td>2024-10-15T17:34:26.180Z</td>\n",
              "      <td>2024-12-19T16:33:32.714Z</td>\n",
              "      <td>Vendedor</td>\n",
              "      <td>Google</td>\n",
              "    </tr>\n",
              "    <tr>\n",
              "      <th>184</th>\n",
              "      <td>MLA2007517140</td>\n",
              "      <td>Apple iPhone 16 Pro Max 256gb 8gb Ram Desert T...</td>\n",
              "      <td>1996082170</td>\n",
              "      <td>NaN</td>\n",
              "      <td>2799990.00</td>\n",
              "      <td>ARS</td>\n",
              "      <td>1</td>\n",
              "      <td>new</td>\n",
              "      <td>{'mode': 'me2', 'methods': [], 'tags': ['manda...</td>\n",
              "      <td>none</td>\n",
              "      <td>{}</td>\n",
              "      <td>[{'id': 'ACCESSORIES_INCLUDED', 'name': 'Acces...</td>\n",
              "      <td>active</td>\n",
              "      <td>Garantía de fábrica: 1 años</td>\n",
              "      <td>2025-02-04T12:47:39.884Z</td>\n",
              "      <td>2025-02-04T12:50:19.070Z</td>\n",
              "      <td>Fábrica</td>\n",
              "      <td>Apple</td>\n",
              "    </tr>\n",
              "  </tbody>\n",
              "</table>\n",
              "</div>\n",
              "    <div class=\"colab-df-buttons\">\n",
              "\n",
              "  <div class=\"colab-df-container\">\n",
              "    <button class=\"colab-df-convert\" onclick=\"convertToInteractive('df-aa5de34f-c736-4341-b766-c873214d4a97')\"\n",
              "            title=\"Convert this dataframe to an interactive table.\"\n",
              "            style=\"display:none;\">\n",
              "\n",
              "  <svg xmlns=\"http://www.w3.org/2000/svg\" height=\"24px\" viewBox=\"0 -960 960 960\">\n",
              "    <path d=\"M120-120v-720h720v720H120Zm60-500h600v-160H180v160Zm220 220h160v-160H400v160Zm0 220h160v-160H400v160ZM180-400h160v-160H180v160Zm440 0h160v-160H620v160ZM180-180h160v-160H180v160Zm440 0h160v-160H620v160Z\"/>\n",
              "  </svg>\n",
              "    </button>\n",
              "\n",
              "  <style>\n",
              "    .colab-df-container {\n",
              "      display:flex;\n",
              "      gap: 12px;\n",
              "    }\n",
              "\n",
              "    .colab-df-convert {\n",
              "      background-color: #E8F0FE;\n",
              "      border: none;\n",
              "      border-radius: 50%;\n",
              "      cursor: pointer;\n",
              "      display: none;\n",
              "      fill: #1967D2;\n",
              "      height: 32px;\n",
              "      padding: 0 0 0 0;\n",
              "      width: 32px;\n",
              "    }\n",
              "\n",
              "    .colab-df-convert:hover {\n",
              "      background-color: #E2EBFA;\n",
              "      box-shadow: 0px 1px 2px rgba(60, 64, 67, 0.3), 0px 1px 3px 1px rgba(60, 64, 67, 0.15);\n",
              "      fill: #174EA6;\n",
              "    }\n",
              "\n",
              "    .colab-df-buttons div {\n",
              "      margin-bottom: 4px;\n",
              "    }\n",
              "\n",
              "    [theme=dark] .colab-df-convert {\n",
              "      background-color: #3B4455;\n",
              "      fill: #D2E3FC;\n",
              "    }\n",
              "\n",
              "    [theme=dark] .colab-df-convert:hover {\n",
              "      background-color: #434B5C;\n",
              "      box-shadow: 0px 1px 3px 1px rgba(0, 0, 0, 0.15);\n",
              "      filter: drop-shadow(0px 1px 2px rgba(0, 0, 0, 0.3));\n",
              "      fill: #FFFFFF;\n",
              "    }\n",
              "  </style>\n",
              "\n",
              "    <script>\n",
              "      const buttonEl =\n",
              "        document.querySelector('#df-aa5de34f-c736-4341-b766-c873214d4a97 button.colab-df-convert');\n",
              "      buttonEl.style.display =\n",
              "        google.colab.kernel.accessAllowed ? 'block' : 'none';\n",
              "\n",
              "      async function convertToInteractive(key) {\n",
              "        const element = document.querySelector('#df-aa5de34f-c736-4341-b766-c873214d4a97');\n",
              "        const dataTable =\n",
              "          await google.colab.kernel.invokeFunction('convertToInteractive',\n",
              "                                                    [key], {});\n",
              "        if (!dataTable) return;\n",
              "\n",
              "        const docLinkHtml = 'Like what you see? Visit the ' +\n",
              "          '<a target=\"_blank\" href=https://colab.research.google.com/notebooks/data_table.ipynb>data table notebook</a>'\n",
              "          + ' to learn more about interactive tables.';\n",
              "        element.innerHTML = '';\n",
              "        dataTable['output_type'] = 'display_data';\n",
              "        await google.colab.output.renderOutput(dataTable, element);\n",
              "        const docLink = document.createElement('div');\n",
              "        docLink.innerHTML = docLinkHtml;\n",
              "        element.appendChild(docLink);\n",
              "      }\n",
              "    </script>\n",
              "  </div>\n",
              "\n",
              "\n",
              "<div id=\"df-1bb9c92f-2dfa-4111-b5b2-50a5d3ea0d26\">\n",
              "  <button class=\"colab-df-quickchart\" onclick=\"quickchart('df-1bb9c92f-2dfa-4111-b5b2-50a5d3ea0d26')\"\n",
              "            title=\"Suggest charts\"\n",
              "            style=\"display:none;\">\n",
              "\n",
              "<svg xmlns=\"http://www.w3.org/2000/svg\" height=\"24px\"viewBox=\"0 0 24 24\"\n",
              "     width=\"24px\">\n",
              "    <g>\n",
              "        <path d=\"M19 3H5c-1.1 0-2 .9-2 2v14c0 1.1.9 2 2 2h14c1.1 0 2-.9 2-2V5c0-1.1-.9-2-2-2zM9 17H7v-7h2v7zm4 0h-2V7h2v10zm4 0h-2v-4h2v4z\"/>\n",
              "    </g>\n",
              "</svg>\n",
              "  </button>\n",
              "\n",
              "<style>\n",
              "  .colab-df-quickchart {\n",
              "      --bg-color: #E8F0FE;\n",
              "      --fill-color: #1967D2;\n",
              "      --hover-bg-color: #E2EBFA;\n",
              "      --hover-fill-color: #174EA6;\n",
              "      --disabled-fill-color: #AAA;\n",
              "      --disabled-bg-color: #DDD;\n",
              "  }\n",
              "\n",
              "  [theme=dark] .colab-df-quickchart {\n",
              "      --bg-color: #3B4455;\n",
              "      --fill-color: #D2E3FC;\n",
              "      --hover-bg-color: #434B5C;\n",
              "      --hover-fill-color: #FFFFFF;\n",
              "      --disabled-bg-color: #3B4455;\n",
              "      --disabled-fill-color: #666;\n",
              "  }\n",
              "\n",
              "  .colab-df-quickchart {\n",
              "    background-color: var(--bg-color);\n",
              "    border: none;\n",
              "    border-radius: 50%;\n",
              "    cursor: pointer;\n",
              "    display: none;\n",
              "    fill: var(--fill-color);\n",
              "    height: 32px;\n",
              "    padding: 0;\n",
              "    width: 32px;\n",
              "  }\n",
              "\n",
              "  .colab-df-quickchart:hover {\n",
              "    background-color: var(--hover-bg-color);\n",
              "    box-shadow: 0 1px 2px rgba(60, 64, 67, 0.3), 0 1px 3px 1px rgba(60, 64, 67, 0.15);\n",
              "    fill: var(--button-hover-fill-color);\n",
              "  }\n",
              "\n",
              "  .colab-df-quickchart-complete:disabled,\n",
              "  .colab-df-quickchart-complete:disabled:hover {\n",
              "    background-color: var(--disabled-bg-color);\n",
              "    fill: var(--disabled-fill-color);\n",
              "    box-shadow: none;\n",
              "  }\n",
              "\n",
              "  .colab-df-spinner {\n",
              "    border: 2px solid var(--fill-color);\n",
              "    border-color: transparent;\n",
              "    border-bottom-color: var(--fill-color);\n",
              "    animation:\n",
              "      spin 1s steps(1) infinite;\n",
              "  }\n",
              "\n",
              "  @keyframes spin {\n",
              "    0% {\n",
              "      border-color: transparent;\n",
              "      border-bottom-color: var(--fill-color);\n",
              "      border-left-color: var(--fill-color);\n",
              "    }\n",
              "    20% {\n",
              "      border-color: transparent;\n",
              "      border-left-color: var(--fill-color);\n",
              "      border-top-color: var(--fill-color);\n",
              "    }\n",
              "    30% {\n",
              "      border-color: transparent;\n",
              "      border-left-color: var(--fill-color);\n",
              "      border-top-color: var(--fill-color);\n",
              "      border-right-color: var(--fill-color);\n",
              "    }\n",
              "    40% {\n",
              "      border-color: transparent;\n",
              "      border-right-color: var(--fill-color);\n",
              "      border-top-color: var(--fill-color);\n",
              "    }\n",
              "    60% {\n",
              "      border-color: transparent;\n",
              "      border-right-color: var(--fill-color);\n",
              "    }\n",
              "    80% {\n",
              "      border-color: transparent;\n",
              "      border-right-color: var(--fill-color);\n",
              "      border-bottom-color: var(--fill-color);\n",
              "    }\n",
              "    90% {\n",
              "      border-color: transparent;\n",
              "      border-bottom-color: var(--fill-color);\n",
              "    }\n",
              "  }\n",
              "</style>\n",
              "\n",
              "  <script>\n",
              "    async function quickchart(key) {\n",
              "      const quickchartButtonEl =\n",
              "        document.querySelector('#' + key + ' button');\n",
              "      quickchartButtonEl.disabled = true;  // To prevent multiple clicks.\n",
              "      quickchartButtonEl.classList.add('colab-df-spinner');\n",
              "      try {\n",
              "        const charts = await google.colab.kernel.invokeFunction(\n",
              "            'suggestCharts', [key], {});\n",
              "      } catch (error) {\n",
              "        console.error('Error during call to suggestCharts:', error);\n",
              "      }\n",
              "      quickchartButtonEl.classList.remove('colab-df-spinner');\n",
              "      quickchartButtonEl.classList.add('colab-df-quickchart-complete');\n",
              "    }\n",
              "    (() => {\n",
              "      let quickchartButtonEl =\n",
              "        document.querySelector('#df-1bb9c92f-2dfa-4111-b5b2-50a5d3ea0d26 button');\n",
              "      quickchartButtonEl.style.display =\n",
              "        google.colab.kernel.accessAllowed ? 'block' : 'none';\n",
              "    })();\n",
              "  </script>\n",
              "</div>\n",
              "\n",
              "    </div>\n",
              "  </div>\n"
            ],
            "application/vnd.google.colaboratory.intrinsic+json": {
              "type": "dataframe",
              "repr_error": "0"
            }
          },
          "metadata": {},
          "execution_count": 220
        }
      ]
    },
    {
      "cell_type": "code",
      "source": [
        "#Convertiremos la columna 'date_created' a formato datetime para que sea más legible\n",
        "df['date_created'] = pd.to_datetime(df['date_created'])\n",
        "\n",
        "# Creamos columna con el mes de creación del producto\n",
        "df['CreationMonth'] = df['date_created'].dt.to_period('M')  # Agrupa por mes y año\n",
        "\n",
        "\n"
      ],
      "metadata": {
        "colab": {
          "base_uri": "https://localhost:8080/"
        },
        "id": "5DoNlrBKBC7q",
        "outputId": "60374ec9-acd2-455c-b0f2-9cc6baf38cd9"
      },
      "execution_count": 226,
      "outputs": [
        {
          "output_type": "stream",
          "name": "stderr",
          "text": [
            "<ipython-input-226-e2c20a2bff24>:5: UserWarning: Converting to PeriodArray/Index representation will drop timezone information.\n",
            "  df['CreationMonth'] = df['date_created'].dt.to_period('M')  # Agrupa por mes y año\n"
          ]
        }
      ]
    },
    {
      "cell_type": "markdown",
      "source": [
        "# **VISUALIZACIÓN**"
      ],
      "metadata": {
        "id": "yKHiGWzytTJ4"
      }
    },
    {
      "cell_type": "markdown",
      "source": [
        "Utilizaremos las librerías de matplotlib y seaborn"
      ],
      "metadata": {
        "id": "flALYxSI5HU-"
      }
    },
    {
      "cell_type": "code",
      "source": [
        "#Distribución de precio - Violin Plot\n",
        "sns.set(rc={'figure.figsize':(11.7,8.27)})\n",
        "violinPlot = sns.violinplot(df.price, orient='v', color='yellow')\n",
        "violinPlot.axhline(df.price.mean(), color='red', linestyle='--', label='Media')\n",
        "plt.title('Distribución de Precio', fontsize=16)\n",
        "plt.ylabel('Precio', fontsize=12)"
      ],
      "metadata": {
        "colab": {
          "base_uri": "https://localhost:8080/",
          "height": 718
        },
        "id": "YKqn4exW25HT",
        "outputId": "985479eb-ea29-4236-ea3b-92eb678a3dba"
      },
      "execution_count": 256,
      "outputs": [
        {
          "output_type": "execute_result",
          "data": {
            "text/plain": [
              "Text(0, 0.5, 'Precio')"
            ]
          },
          "metadata": {},
          "execution_count": 256
        },
        {
          "output_type": "display_data",
          "data": {
            "text/plain": [
              "<Figure size 1170x827 with 1 Axes>"
            ],
            "image/png": "[encoded data removed]"
          },
          "metadata": {}
        }
      ]
    },
    {
      "cell_type": "markdown",
      "source": [
        "* Este gráfico nos muestra la distribución de los precios en general. En base a esto , se puede observar que el grueso de nuestra muestra se halla en un precio que va entre 1 millon de pesos y 3 millones de pesos.\n",
        "\n",
        "* El precio promedio es $2383578.92 ARS , como analizamos anteriormente y marcado por la línea roja de media.\n"
      ],
      "metadata": {
        "id": "u0fmtPe8NPCR"
      }
    },
    {
      "cell_type": "code",
      "source": [
        "#Displot para observar la distribución de precios entre las diferentes marcas\n",
        "sns.set(rc={'figure.figsize':(11.7,8.27)})\n",
        "sns.displot(data=df, x= \"price\", hue=\"brand\", multiple=\"stack\", col=\"brand\",palette='YlOrBr')\n",
        "plt.suptitle('Cantidad de productos publicados por precio en millones de pesos', y=1.02, fontsize=16)"
      ],
      "metadata": {
        "colab": {
          "base_uri": "https://localhost:8080/",
          "height": 567
        },
        "id": "oKTCj6wY5rGw",
        "outputId": "76f61d7b-7fcc-4244-93ac-bfada246fd02"
      },
      "execution_count": 244,
      "outputs": [
        {
          "output_type": "execute_result",
          "data": {
            "text/plain": [
              "Text(0.5, 1.02, 'Cantidad de productos publicados por precio en millones de pesos')"
            ]
          },
          "metadata": {},
          "execution_count": 244
        },
        {
          "output_type": "display_data",
          "data": {
            "text/plain": [
              "<Figure size 1626x500 with 3 Axes>"
            ],
            "image/png": "[encoded data removed]"
          },
          "metadata": {}
        }
      ]
    },
    {
      "cell_type": "markdown",
      "source": [
        "En cuanto a los productos de Apple y Google , se observa una mayor variación en el precio. Los rangos de los productos van desde 1 millon de pesos hasta 4 millones en su mayoria para el caso de Apple y hasta 3 millones para el caso de Google.  Mientras que los de Samsung se puede observar que los precios no varian de la misma forma y se encuentran en su mayoria entre los 1.5 y 3 millones de pesos"
      ],
      "metadata": {
        "id": "dIGUUgr2MA_E"
      }
    },
    {
      "cell_type": "code",
      "source": [
        "# Gráfico de torta para observar los tipos de garantía\n",
        "pieChart = df['warranty_options'].value_counts()\n",
        "\n",
        "plt.figure(figsize=(8, 8))\n",
        "plt.pie(pieChart, labels=pieChart.index, autopct='%1.1f%%', startangle=90, colors=sns.color_palette('YlOrBr'))\n",
        "plt.title('Tipos de garantía')\n",
        "plt.show()"
      ],
      "metadata": {
        "colab": {
          "base_uri": "https://localhost:8080/",
          "height": 675
        },
        "id": "oMkEmwFV9hVN",
        "outputId": "f8d375aa-aad9-4594-88c7-bd841c47be5f"
      },
      "execution_count": 223,
      "outputs": [
        {
          "output_type": "display_data",
          "data": {
            "text/plain": [
              "<Figure size 800x800 with 1 Axes>"
            ],
            "image/png": "[encoded data removed]"
          },
          "metadata": {}
        }
      ]
    },
    {
      "cell_type": "markdown",
      "source": [
        "La mayoría de los productos poseen garantía 85.5% , sol un 14.5% no poseen ningún tipo de garantía"
      ],
      "metadata": {
        "id": "nwIoyf2sEssl"
      }
    },
    {
      "cell_type": "code",
      "source": [
        "#Gráfico de barras para analizar las opciones de garantía según la condición del producto.\n",
        "sns.set(rc={'figure.figsize':(11.7,8.27)})\n",
        "ax= sns.displot(data=df, x= \"warranty_options\",hue= \"condition\", multiple= \"stack\", col= \"condition\",palette='YlOrBr' )\n",
        "plt.suptitle('Cantidad de productos según tipo de garantía y condición', y=1.02, fontsize=16)\n"
      ],
      "metadata": {
        "colab": {
          "base_uri": "https://localhost:8080/",
          "height": 547
        },
        "id": "-XH3MZ8N6mm9",
        "outputId": "758ab94f-2d0b-4990-a656-3d8f338476e4"
      },
      "execution_count": 253,
      "outputs": [
        {
          "output_type": "execute_result",
          "data": {
            "text/plain": [
              "Text(0.5, 1.02, 'Cantidad de productos según tipo de garantía y condición')"
            ]
          },
          "metadata": {},
          "execution_count": 253
        },
        {
          "output_type": "display_data",
          "data": {
            "text/plain": [
              "<Figure size 1091.88x500 with 2 Axes>"
            ],
            "image/png": "[encoded data removed]"
          },
          "metadata": {}
        }
      ]
    },
    {
      "cell_type": "markdown",
      "source": [
        "* Se observa que en los productos nuevos, la garantía de fábrica es altamente predominante y la garantía del vendedor también juega un papel importante.\n",
        "\n",
        "* En cuanto a los productos usados, no sorprende que la mayoria de las opciones no cuenten con garantía. Lo que sí sorprende es que se vendan productos usados con garantía de fábrica, algo que podría someterse a revisión."
      ],
      "metadata": {
        "id": "wQF9CvhvFthE"
      }
    },
    {
      "cell_type": "code",
      "source": [
        "# Contamos cantidad de publicaciones por mes y convertimos a string month para gráficar\n",
        "productos_por_mes = df.groupby('CreationMonth').size().reset_index(name='count')\n",
        "productos_por_mes['CreationMonth'] = productos_por_mes['CreationMonth'].astype(str)\n",
        "\n",
        "# Gráfico de lineas de productos publicados por mes.\n",
        "plt.figure(figsize=(10, 6))\n",
        "sns.lineplot(data=productos_por_mes, x='CreationMonth', y='count', marker='o',color='yellow')\n",
        "plt.title('Cantidad de productos publicados por mes', fontsize=16)\n",
        "plt.xlabel('Mes', fontsize=12)\n",
        "plt.ylabel('Cantidad', fontsize=12)\n",
        "\n",
        "#Etiquetas para cada punto\n",
        "for i, row in productos_por_mes.iterrows():\n",
        "    plt.text(\n",
        "        row['CreationMonth'],  # Posición eje X\n",
        "        row['count'],          # Posición eje Y\n",
        "        f\"{row['count']}\",     # Texto\n",
        "    )\n",
        "\n",
        "\n",
        "plt.tight_layout()\n",
        "plt.show()"
      ],
      "metadata": {
        "colab": {
          "base_uri": "https://localhost:8080/",
          "height": 601
        },
        "id": "3sPFHofcBvbO",
        "outputId": "b606154b-58c7-4119-88d1-ecfbc2f8426a"
      },
      "execution_count": 239,
      "outputs": [
        {
          "output_type": "display_data",
          "data": {
            "text/plain": [
              "<Figure size 1000x600 with 1 Axes>"
            ],
            "image/png": "[encoded data removed]"
          },
          "metadata": {}
        }
      ]
    },
    {
      "cell_type": "markdown",
      "source": [
        "* Se observa una tendencia al alza en la cantidad de productos publicados por mes en nuestra muestra. La caída en febrero es esperable debido a que es el mes en curso.\n",
        "* Se observa una estabilidad hasta octubre cuando se dispara los celulares publicados acorde a nuestra muestra. Esto se relaciona directamente con la salida del Iphone 16 y el Google Pixel 9 , ambas se dieron en septiembre del 2024. La salida del Samsung Galaxy S24 se dio a comienzos del 2024."
      ],
      "metadata": {
        "id": "YXawivFGEa2o"
      }
    },
    {
      "cell_type": "code",
      "source": [
        "#Boxplot para observar la distribución de precios según si el producto tiene es envio internacional o no\n",
        "sns.set(rc={'figure.figsize':(11.7,8.27)})\n",
        "sns.boxplot(data= df, x=\"price\", y= \"international_delivery_mode\" , hue=\"international_delivery_mode\", color=\"yellow\" )\n",
        "plt.title('Precios de productos según si poseen envío internacional', fontsize=16)\n",
        "plt.xlabel('Precio', fontsize=12)\n",
        "plt.ylabel('Envío internacional', fontsize=12)"
      ],
      "metadata": {
        "colab": {
          "base_uri": "https://localhost:8080/",
          "height": 862
        },
        "id": "epiTamhRTe5L",
        "outputId": "d5e88e03-34d3-43c8-88e1-d150a429956c"
      },
      "execution_count": 263,
      "outputs": [
        {
          "output_type": "stream",
          "name": "stderr",
          "text": [
            "<ipython-input-263-e47ca7cb0abe>:3: FutureWarning: \n",
            "\n",
            "Setting a gradient palette using color= is deprecated and will be removed in v0.14.0. Set `palette='dark:yellow'` for the same effect.\n",
            "\n",
            "  sns.boxplot(data= df, x=\"price\", y= \"international_delivery_mode\" , hue=\"international_delivery_mode\", color=\"yellow\" )\n"
          ]
        },
        {
          "output_type": "execute_result",
          "data": {
            "text/plain": [
              "Text(0, 0.5, 'Envío internacional')"
            ]
          },
          "metadata": {},
          "execution_count": 263
        },
        {
          "output_type": "display_data",
          "data": {
            "text/plain": [
              "<Figure size 1170x827 with 1 Axes>"
            ],
            "image/png": "[encoded data removed]"
          },
          "metadata": {}
        }
      ]
    },
    {
      "cell_type": "markdown",
      "source": [
        "* Pese a que los envios con envio internacional son pocos en la muestra, se puede observar un precio promedio menor y mucho menor distribución en la variación de precio. Las \"cajas\" de los boxplot representan el 50% de la muestra mientras que los \"bigotes\" representan el resto de la muestra.\n",
        "\n",
        "* Los puntos fuera de los bigores, son los demoninados outliers , es decir valores atípicos, y se observa que los outliers referidos a productos internacionales son de precio menores mientras que los de origen local son de precios mayores."
      ],
      "metadata": {
        "id": "RI69bryZTgfc"
      }
    },
    {
      "cell_type": "markdown",
      "source": [
        "# **Conclusiones Finales**"
      ],
      "metadata": {
        "id": "7UdA4MYoPwSW"
      }
    },
    {
      "cell_type": "markdown",
      "source": [
        "* La muestra analizada está dominada por la publicación de productos nuevos, un 87.85% de las publicaciones corresponden a este tipo de dispositivos y la publicaciones por marca se muestra una competencia fuerte entre Samsung y Apple con un Google rezazgado.\n",
        "\n",
        "*  Los precios varían significativamente, desde $700.000 hasta $4.619.990, con un promedio de $2.383.578, concentrándose la mayoría en el rango de 1 a 3 millones de ARS.\n",
        "\n",
        "* La garantía representa un factor clave, ya que el 85.5% de los productos ofrecen garantía de fábrica o del vendedor, mientras que solo el 14.95% no tiene garantía alguna, especialmente en productos usados.\n",
        "\n",
        "* Referido a envios, solo el 6.54% de las publicaciones son de envío internacional, lo que indica un enfoque principalmente local. Dentro de los productos internacionales, se observa un menor precio promedio así como menor variación.\n",
        "\n",
        "* Se observa una tendencia al alza en la cantidad de publicaciones, con un pico en octubre de 2024, coincidiendo con el lanzamiento del iPhone 16 y el Google Pixel 9 en septiembre.\n",
        "\n",
        "*  La mayoría de los vendedores comienzan con 8 productos en stock, aunque algunos llegan a tener hasta 101."
      ],
      "metadata": {
        "id": "JjyfWeqdP3Cr"
      }
    },
    {
      "cell_type": "markdown",
      "source": [
        "# **Líneas de recomendación**"
      ],
      "metadata": {
        "id": "b5ckg15NRlWB"
      }
    },
    {
      "cell_type": "markdown",
      "source": [
        "* Controlar las garantías de fábrica en la venta de modelos usados. Esto puede generarle un problema a la companía, que garantiza la garantía para este tipo de productos.\n",
        "\n",
        "* Aumentar la cobertura de envios internacionales en la medida de lo posible, eso permitiría abrir el mercado a otros paises y si se mantiene la tendencia de nuestra muestra, ofrecer a los clientes los mismos productos a un precio mucho menor. Cabe aclarar que hay otros impuestos a considerar, como los impuestos de importación y el costo de envio internacional, pero la expansión de este tipo de productos podría representar una oportunidad de crecimiento para la compañia."
      ],
      "metadata": {
        "id": "F1DuegNJRpo_"
      }
    }
  ]
}